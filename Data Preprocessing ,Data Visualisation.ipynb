{
 "cells": [
  {
   "cell_type": "code",
   "execution_count": 5,
   "id": "9101cffa",
   "metadata": {},
   "outputs": [
    {
     "name": "stderr",
     "output_type": "stream",
     "text": [
      "[nltk_data] Downloading package punkt to C:\\Users\\Sai\n",
      "[nltk_data]     Megana\\AppData\\Roaming\\nltk_data...\n",
      "[nltk_data]   Package punkt is already up-to-date!\n",
      "[nltk_data] Downloading package wordnet to C:\\Users\\Sai\n",
      "[nltk_data]     Megana\\AppData\\Roaming\\nltk_data...\n",
      "[nltk_data]   Package wordnet is already up-to-date!\n",
      "[nltk_data] Downloading package stopwords to C:\\Users\\Sai\n",
      "[nltk_data]     Megana\\AppData\\Roaming\\nltk_data...\n",
      "[nltk_data]   Package stopwords is already up-to-date!\n"
     ]
    },
    {
     "data": {
      "text/plain": [
       "True"
      ]
     },
     "execution_count": 5,
     "metadata": {},
     "output_type": "execute_result"
    }
   ],
   "source": [
    "import pandas as pd\n",
    "import re\n",
    "import langdetect\n",
    "from langdetect.lang_detect_exception import LangDetectException\n",
    "from nltk.tokenize import word_tokenize\n",
    "from nltk.corpus import stopwords\n",
    "from nltk.stem import PorterStemmer, WordNetLemmatizer\n",
    "import nltk\n",
    "\n",
    "nltk.download('punkt')\n",
    "nltk.download('wordnet')\n",
    "nltk.download('stopwords')\n"
   ]
  },
  {
   "cell_type": "code",
   "execution_count": 6,
   "id": "3fe16b61",
   "metadata": {},
   "outputs": [],
   "source": [
    "#Load the data\n",
    "def load_data(file_path):\n",
    "    return pd.read_excel(file_path)\n",
    "input_file = \"G:/2-1/thesis.xlsx\"\n",
    "output_file = \"G:/2-1/preprocessed_english_data.xlsx\"\n",
    "\n"
   ]
  },
  {
   "cell_type": "code",
   "execution_count": null,
   "id": "54e584c0",
   "metadata": {},
   "outputs": [],
   "source": [
    "\n",
    "# Function to detect the language\n",
    "# Function to detect the language\n",
    "def detect_language(text):\n",
    "    if isinstance(text, str):\n",
    "        try:\n",
    "            return langdetect.detect(text)\n",
    "        except LangDetectException:\n",
    "            return 'unknown'\n",
    "    else:\n",
    "        return 'unknown'\n",
    "\n",
    "# Filter out non-English tweets\n",
    "def filter_english_tweets(data):\n",
    "    english_tweets = data[data['Language'] == 'en']['Tweet']\n",
    "    return english_tweets\n",
    "\n",
    "# Punctuation removal\n",
    "def remove_punctuation(text):\n",
    "    return re.sub(r'[^\\w\\s]', '', text)\n",
    "\n",
    "# Numeric removal\n",
    "def remove_numbers(text):\n",
    "    return re.sub(r'\\d+', '', text)\n",
    "\n",
    "# Convert to lowercase\n",
    "def convert_to_lowercase(text):\n",
    "    return text.lower()\n",
    "\n",
    "# Tokenization, stemming, lemmatization, and stopword removal\n",
    "def preprocess_text(text):\n",
    "    tokens = word_tokenize(text)\n",
    "    tokens = [lemmatizer.lemmatize(stemmer.stem(word)) for word in tokens if word not in stopwords.words('english')]\n",
    "    return ' '.join(tokens)\n",
    "\n",
    "# Remove linksimport pandas as pd\n",
    "import re\n",
    "from nltk.tokenize import word_tokenize\n",
    "from nltk.stem import PorterStemmer, WordNetLemmatizer\n",
    "from nltk.corpus import stopwords\n",
    "from langdetect import detect\n",
    "\n",
    "# Load the Excel file with English tweets\n",
    "english_tweets_file_path = 'english_tweets.xlsx'\n",
    "df_english_tweets = pd.read_excel(english_tweets_file_path)\n",
    "\n",
    "# Punctuation removal\n",
    "def remove_punctuation(text):\n",
    "    return re.sub(r'[^\\w\\s]', '', text)\n",
    "\n",
    "# Numeric removal\n",
    "def remove_numbers(text):\n",
    "    return re.sub(r'\\d+', '', text)\n",
    "\n",
    "# Convert to lowercase\n",
    "def convert_to_lowercase(text):\n",
    "    return text.lower()\n",
    "\n",
    "# Tokenization, stemming, lemmatization, and stopword removal\n",
    "def preprocess_text(text):\n",
    "    tokens = word_tokenize(text)\n",
    "    tokens = [lemmatizer.lemmatize(stemmer.stem(word)) for word in tokens if word not in stopwords.words('english')]\n",
    "    return ' '.join(tokens)\n",
    "\n",
    "# Remove links\n",
    "def remove_links(text):\n",
    "    return re.sub(r'http\\S+', '', text)\n",
    "\n",
    "# Remove emojis and special characters\n",
    "def remove_special_characters(text):\n",
    "    return text.encode('ascii', 'ignore').decode('ascii')\n",
    "\n",
    "# Remove usernames (mentions)\n",
    "def remove_usernames(text):\n",
    "    return re.sub(r'@\\w+', '', text)\n",
    "\n",
    "# Preprocessing pipeline\n",
    "def preprocess_pipeline(text):\n",
    "    text = remove_links(text)\n",
    "    text = remove_special_characters(text)\n",
    "    text = remove_punctuation(text)\n",
    "    text = remove_numbers(text)\n",
    "    text = convert_to_lowercase(text)\n",
    "    text = remove_usernames(text)\n",
    "    text = preprocess_text(text)\n",
    "    return text\n",
    "\n",
    "# Apply the preprocessing pipeline to the 'Tweet' column\n",
    "df_english_tweets['PreprocessedTweet'] = df_english_tweets['Tweet'].apply(preprocess_pipeline)\n",
    "\n",
    "# Save the preprocessed data to a new Excel file\n",
    "output_preprocessed_file_path = 'english_tweets_preprocessed.xlsx'\n",
    "df_english_tweets.to_excel(output_preprocessed_file_path, index=False)\n",
    "\n",
    "print('Preprocessing completed. Results saved in', output_preprocessed_file_path)\n",
    "\n",
    "def remove_links(text):\n",
    "    return re.sub(r'http\\S+', '', text)\n",
    "\n",
    "# Remove emojis and special characters\n",
    "def remove_special_characters(text):\n",
    "    return text.encode('ascii', 'ignore').decode('ascii')\n",
    "\n",
    "# Remove usernames (mentions)\n",
    "def remove_usernames(text):\n",
    "    return re.sub(r'@\\w+', '', text)\n",
    "\n",
    "# Preprocessing pipeline\n",
    "def preprocess_pipeline(text):\n",
    "    text = remove_links(text)\n",
    "    text = remove_special_characters(text)\n",
    "    text = remove_punctuation(text)\n",
    "    text = remove_numbers(text)\n",
    "    text = convert_to_lowercase(text)\n",
    "    text = remove_usernames(text)\n",
    "    text = preprocess_text(text)\n",
    "    return text\n",
    "\n",
    "# Save preprocessed data\n",
    "def save_preprocessed_data(data, output_file):\n",
    "    data.to_excel(output_file, index=False)\n",
    "\n",
    "# Main preprocessing function\n",
    "def preprocess_data(input_file, output_file):\n",
    "    data = load_data(input_file)\n",
    "    data['Language'] = data['Tweet'].apply(detect_language)\n",
    "    english_tweets = filter_english_tweets(data)\n",
    "    data.loc[data['Language'] == 'en', 'Tweet'] = english_tweets.apply(preprocess_pipeline)\n",
    "    save_preprocessed_data(data, output_file)\n",
    "\n",
    "# Initialize stemmer and lemmatizer\n",
    "stemmer = PorterStemmer()\n",
    "lemmatizer = WordNetLemmatizer()\n",
    "\n",
    "# Example usage\n"
   ]
  },
  {
   "cell_type": "code",
   "execution_count": 8,
   "id": "378bf854",
   "metadata": {},
   "outputs": [
    {
     "name": "stdout",
     "output_type": "stream",
     "text": [
      "Requirement already satisfied: pandas in c:\\users\\public\\anaconda\\lib\\site-packages (1.4.2)\n",
      "Requirement already satisfied: langdetect in c:\\users\\public\\anaconda\\lib\\site-packages (1.0.9)\n",
      "Requirement already satisfied: openpyxl in c:\\users\\public\\anaconda\\lib\\site-packages (3.0.9)\n",
      "Requirement already satisfied: pytz>=2020.1 in c:\\users\\public\\anaconda\\lib\\site-packages (from pandas) (2023.3)\n",
      "Requirement already satisfied: python-dateutil>=2.8.1 in c:\\users\\public\\anaconda\\lib\\site-packages (from pandas) (2.8.2)\n",
      "Requirement already satisfied: numpy>=1.18.5 in c:\\users\\public\\anaconda\\lib\\site-packages (from pandas) (1.25.1)\n",
      "Requirement already satisfied: six in c:\\users\\public\\anaconda\\lib\\site-packages (from langdetect) (1.16.0)\n",
      "Requirement already satisfied: et-xmlfile in c:\\users\\public\\anaconda\\lib\\site-packages (from openpyxl) (1.1.0)\n",
      "Note: you may need to restart the kernel to use updated packages.\n"
     ]
    },
    {
     "name": "stderr",
     "output_type": "stream",
     "text": [
      "\n",
      "[notice] A new release of pip available: 22.3.1 -> 23.2.1\n",
      "[notice] To update, run: python.exe -m pip install --upgrade pip\n"
     ]
    }
   ],
   "source": [
    "pip install pandas langdetect openpyxl\n"
   ]
  },
  {
   "cell_type": "code",
   "execution_count": 11,
   "id": "a19e68ab",
   "metadata": {},
   "outputs": [
    {
     "name": "stdout",
     "output_type": "stream",
     "text": [
      "Language detection and filtering completed. Results saved in G:/2-1/thesis.xlsx\n"
     ]
    }
   ],
   "source": [
    "import pandas as pd\n",
    "from langdetect import detect\n",
    "\n",
    "# Load the Excel file\n",
    "input_file_path = 'G:/2-1/thesis.xlsx'\n",
    "df = pd.read_excel(input_file_path)\n",
    "\n",
    "# Function to detect language and filter non-English tweets\n",
    "def detect_language(text):\n",
    "    try:\n",
    "        language = detect(text)\n",
    "        return text if language == 'en' else ''\n",
    "    except:\n",
    "        return ''\n",
    "\n",
    "# Apply language detection to each tweet in the 'Tweet' column\n",
    "df['English_Tweets'] = df['Tweet'].apply(detect_language)\n",
    "\n",
    "# Save the updated DataFrame with the new 'English_Tweets' column to the same Excel file\n",
    "output_file_path = 'G:/2-1/thesis.xlsx'\n",
    "df.to_excel(output_file_path, index=False)\n",
    "\n",
    "print('Language detection and filtering completed. Results saved in', output_file_path)\n"
   ]
  },
  {
   "cell_type": "code",
   "execution_count": 15,
   "id": "4be10742",
   "metadata": {},
   "outputs": [
    {
     "name": "stdout",
     "output_type": "stream",
     "text": [
      "Language detection and marking completed. Results saved in G:/2-1/thesis2.xlsx\n"
     ]
    }
   ],
   "source": [
    "import pandas as pd\n",
    "from langdetect import detect\n",
    "\n",
    "# Load the Excel file\n",
    "input_file_path = 'G:/2-1/Thesis_sample.xlsx'\n",
    "df = pd.read_excel(input_file_path)\n",
    "\n",
    "# Function to detect language and mark if it's English\n",
    "def mark_english(text):\n",
    "    try:\n",
    "        language = detect(text)\n",
    "        return True if language == 'en' else False\n",
    "    except:\n",
    "        return False\n",
    "\n",
    "# Apply language detection to each tweet in the 'Tweet' column\n",
    "df['IsEnglish'] = df['Tweet'].apply(mark_english)\n",
    "\n",
    "# Save the updated DataFrame with the new 'IsEnglish' column to the same Excel file\n",
    "output_file_path = 'G:/2-1/thesis2.xlsx'\n",
    "df.to_excel(output_file_path, index=False)\n",
    "\n",
    "print('Language detection and marking completed. Results saved in', output_file_path)\n"
   ]
  },
  {
   "cell_type": "code",
   "execution_count": 16,
   "id": "a7f28fe5",
   "metadata": {},
   "outputs": [],
   "source": [
    "english_tweet_count = df['IsEnglish'].sum()"
   ]
  },
  {
   "cell_type": "code",
   "execution_count": 17,
   "id": "f2192081",
   "metadata": {},
   "outputs": [
    {
     "data": {
      "text/plain": [
       "8611"
      ]
     },
     "execution_count": 17,
     "metadata": {},
     "output_type": "execute_result"
    }
   ],
   "source": [
    "english_tweet_count"
   ]
  },
  {
   "cell_type": "code",
   "execution_count": 18,
   "id": "1a3861f2",
   "metadata": {},
   "outputs": [
    {
     "name": "stdout",
     "output_type": "stream",
     "text": [
      "Filtered English tweets saved in G:/2-1/english_tweets.xlsx\n"
     ]
    }
   ],
   "source": [
    "import pandas as pd\n",
    "from langdetect import detect\n",
    "\n",
    "# Load the Excel file\n",
    "input_file_path = 'G:/2-1/Thesis_sample.xlsx'\n",
    "df = pd.read_excel(input_file_path)\n",
    "\n",
    "# Function to detect language and mark if it's English\n",
    "def mark_english(text):\n",
    "    try:\n",
    "        language = detect(text)\n",
    "        return True if language == 'en' else False\n",
    "    except:\n",
    "        return False\n",
    "\n",
    "# Apply language detection to each tweet in the 'Tweet' column\n",
    "df['IsEnglish'] = df['Tweet'].apply(mark_english)\n",
    "\n",
    "# Filter only the rows where 'IsEnglish' is True\n",
    "df_english_tweets = df[df['IsEnglish']]\n",
    "\n",
    "# Save the DataFrame with only the English tweets to a new Excel file\n",
    "output_english_file_path = 'G:/2-1/english_tweets.xlsx'\n",
    "df_english_tweets.to_excel(output_english_file_path, index=False)\n",
    "\n",
    "print('Filtered English tweets saved in', output_english_file_path)\n"
   ]
  },
  {
   "cell_type": "code",
   "execution_count": 1,
   "id": "29d879de",
   "metadata": {},
   "outputs": [
    {
     "name": "stderr",
     "output_type": "stream",
     "text": [
      "C:\\Users\\Public\\anaconda\\lib\\site-packages\\scipy\\__init__.py:146: UserWarning: A NumPy version >=1.16.5 and <1.23.0 is required for this version of SciPy (detected version 1.25.1\n",
      "  warnings.warn(f\"A NumPy version >={np_minversion} and <{np_maxversion}\"\n"
     ]
    },
    {
     "name": "stdout",
     "output_type": "stream",
     "text": [
      "Preprocessing completed. Results saved in G:/2-1/english_tweets.xlsx\n"
     ]
    }
   ],
   "source": [
    "import pandas as pd\n",
    "import re\n",
    "from nltk.tokenize import word_tokenize\n",
    "from nltk.stem import PorterStemmer, WordNetLemmatizer\n",
    "from nltk.corpus import stopwords\n",
    "import nltk\n",
    "\n",
    "# Load the Excel file with English tweets\n",
    "english_tweets_file_path = 'G:/2-1/english_tweets.xlsx'\n",
    "df_english_tweets = pd.read_excel(english_tweets_file_path)\n",
    "\n",
    "# Function to detect the language\n",
    "def detect_language(text):\n",
    "    if isinstance(text, str):\n",
    "        try:\n",
    "            return langdetect.detect(text)\n",
    "        except langdetect.LangDetectException:\n",
    "            return 'unknown'\n",
    "    else:\n",
    "        return 'unknown'\n",
    "\n",
    "# Punctuation removal\n",
    "def remove_punctuation(text):\n",
    "    return re.sub(r'[^\\w\\s]', '', text)\n",
    "\n",
    "# Numeric removal\n",
    "def remove_numbers(text):\n",
    "    return re.sub(r'\\d+', '', text)\n",
    "\n",
    "# Convert to lowercase\n",
    "def convert_to_lowercase(text):\n",
    "    return text.lower()\n",
    "\n",
    "# Tokenization, stemming, lemmatization, and stopword removal\n",
    "def preprocess_text(text, stemmer, lemmatizer):\n",
    "    stop_words = set(stopwords.words('english'))\n",
    "    tokens = word_tokenize(text)\n",
    "    tokens = [lemmatizer.lemmatize(stemmer.stem(word)) for word in tokens if word not in stop_words]\n",
    "    return ' '.join(tokens)\n",
    "\n",
    "# Remove links\n",
    "def remove_links(text):\n",
    "    return re.sub(r'http\\S+', '', text)\n",
    "\n",
    "# Remove emojis and special characters\n",
    "def remove_special_characters(text):\n",
    "    return text.encode('ascii', 'ignore').decode('ascii')\n",
    "\n",
    "# Remove usernames (mentions)\n",
    "def remove_usernames(text):\n",
    "    return re.sub(r'@\\w+', '', text)\n",
    "\n",
    "# Preprocessing pipeline\n",
    "def preprocess_pipeline(text):\n",
    "    # Initialize stemmer and lemmatizer\n",
    "    stemmer = PorterStemmer()\n",
    "    lemmatizer = WordNetLemmatizer()\n",
    "\n",
    "    text = remove_links(text)\n",
    "    text = remove_special_characters(text)\n",
    "    text = remove_punctuation(text)\n",
    "    text = remove_numbers(text)\n",
    "    text = convert_to_lowercase(text)\n",
    "    text = remove_usernames(text)\n",
    "    text = preprocess_text(text, stemmer, lemmatizer)\n",
    "    return text\n",
    "\n",
    "# Apply the preprocessing pipeline to the 'Tweet' column\n",
    "df_english_tweets['PreprocessedTweet'] = df_english_tweets['Tweet'].apply(preprocess_pipeline)\n",
    "\n",
    "# Save the preprocessed data to a new Excel file\n",
    "output_preprocessed_file_path = 'G:/2-1/english_tweets.xlsx'\n",
    "df_english_tweets.to_excel(output_preprocessed_file_path, index=False)\n",
    "\n",
    "print('Preprocessing completed. Results saved in', output_preprocessed_file_path)\n"
   ]
  },
  {
   "cell_type": "code",
   "execution_count": 4,
   "id": "e48c4a75",
   "metadata": {},
   "outputs": [
    {
     "name": "stderr",
     "output_type": "stream",
     "text": [
      "[nltk_data] Downloading package wordnet to C:\\Users\\Sai\n",
      "[nltk_data]     Megana\\AppData\\Roaming\\nltk_data...\n",
      "[nltk_data]   Package wordnet is already up-to-date!\n",
      "[nltk_data] Downloading package omw-1.4 to C:\\Users\\Sai\n",
      "[nltk_data]     Megana\\AppData\\Roaming\\nltk_data...\n",
      "[nltk_data]   Package omw-1.4 is already up-to-date!\n"
     ]
    },
    {
     "data": {
      "text/plain": [
       "True"
      ]
     },
     "execution_count": 4,
     "metadata": {},
     "output_type": "execute_result"
    }
   ],
   "source": [
    "import nltk\n",
    "\n",
    "# Uncomment the following line and run it once to download WordNet\n",
    "nltk.download('wordnet')\n",
    "nltk.download('omw-1.4')\n",
    "# Now you can use the WordNet lemmatizer without encountering the LookupError\n"
   ]
  },
  {
   "cell_type": "code",
   "execution_count": 1,
   "id": "4549c005",
   "metadata": {},
   "outputs": [
    {
     "name": "stdout",
     "output_type": "stream",
     "text": [
      "Collecting textblob\n",
      "  Downloading textblob-0.17.1-py2.py3-none-any.whl (636 kB)\n",
      "Note: you may need to restart the kernel to use updated packages.\n"
     ]
    },
    {
     "name": "stderr",
     "output_type": "stream",
     "text": [
      "\n",
      "[notice] A new release of pip available: 22.3.1 -> 23.2.1"
     ]
    },
    {
     "name": "stdout",
     "output_type": "stream",
     "text": [
      "     ------------------------------------ 636.8/636.8 kB 573.2 kB/s eta 0:00:00\n",
      "Requirement already satisfied: nltk>=3.1 in c:\\users\\public\\anaconda\\lib\\site-packages (from textblob) (3.7)\n",
      "Requirement already satisfied: click in c:\\users\\public\\anaconda\\lib\\site-packages (from nltk>=3.1->textblob) (8.0.4)\n",
      "Requirement already satisfied: joblib in c:\\users\\public\\anaconda\\lib\\site-packages (from nltk>=3.1->textblob) (1.1.0)\n",
      "Requirement already satisfied: tqdm in c:\\users\\public\\anaconda\\lib\\site-packages (from nltk>=3.1->textblob) (4.64.0)\n",
      "Requirement already satisfied: regex>=2021.8.3 in c:\\users\\public\\anaconda\\lib\\site-packages (from nltk>=3.1->textblob) (2022.3.15)\n",
      "Requirement already satisfied: colorama in c:\\users\\public\\anaconda\\lib\\site-packages (from click->nltk>=3.1->textblob) (0.4.4)\n",
      "Installing collected packages: textblob\n",
      "Successfully installed textblob-0.17.1\n"
     ]
    },
    {
     "name": "stderr",
     "output_type": "stream",
     "text": [
      "\n",
      "[notice] To update, run: python.exe -m pip install --upgrade pip\n"
     ]
    }
   ],
   "source": [
    "pip install textblob\n"
   ]
  },
  {
   "cell_type": "code",
   "execution_count": 7,
   "id": "adbffa40",
   "metadata": {},
   "outputs": [
    {
     "name": "stdout",
     "output_type": "stream",
     "text": [
      "Sentiment analysis completed. Results saved in G:/2-1/english_tweets_with_sentiment_analysis.xlsx\n"
     ]
    }
   ],
   "source": [
    "from textblob import TextBlob\n",
    "import pandas as pd\n",
    "# Function to analyze sentiment using TextBlob\n",
    "def analyze_sentiment(text):\n",
    "    analysis = TextBlob(text)\n",
    "    \n",
    "    # Classify the polarity of the tweet\n",
    "    if analysis.sentiment.polarity > 0:\n",
    "        return '1'\n",
    "    elif analysis.sentiment.polarity == 0:\n",
    "        return '2'\n",
    "    else:\n",
    "        return '0'\n",
    "input_file = 'G:/2-1/english_tweets.xlsx'\n",
    "preprocessed_data=pd.read_excel(input_file)\n",
    "\n",
    "# Apply sentiment analysis to preprocessed tweets\n",
    "preprocessed_data['Sentiment'] = preprocessed_data['PreprocessedTweet'].apply(analyze_sentiment)\n",
    "\n",
    "# Save the data with sentiment analysis results\n",
    "output_with_sentiment_file_path = 'G:/2-1/english_tweets_with_sentiment_analysis.xlsx'\n",
    "preprocessed_data.to_excel(output_with_sentiment_file_path, index=False)\n",
    "\n",
    "print('Sentiment analysis completed. Results saved in', output_with_sentiment_file_path)\n"
   ]
  },
  {
   "cell_type": "code",
   "execution_count": 2,
   "id": "e6146610",
   "metadata": {},
   "outputs": [
    {
     "data": {
      "image/png": "[encoded data removed]",
      "text/plain": [
       "<Figure size 576x576 with 1 Axes>"
      ]
     },
     "metadata": {},
     "output_type": "display_data"
    },
    {
     "name": "stdout",
     "output_type": "stream",
     "text": [
      "Sentiment analysis completed. Results saved in G:/2-1/english_tweets_with_sentiment_analysis.xlsx\n"
     ]
    }
   ],
   "source": [
    "import matplotlib.pyplot as plt\n",
    "import pandas as pd\n",
    "\n",
    "# Load the preprocessed data\n",
    "input_file = 'G:/2-1/english_tweets_with_sentiment_analysis.xlsx'\n",
    "preprocessed_data = pd.read_excel(input_file)\n",
    "\n",
    "# Count the number of tweets for each sentiment\n",
    "sentiment_counts = preprocessed_data['Sentiment'].value_counts()\n",
    "\n",
    "# Define labels for the legend with counts\n",
    "labels = [f'Neutral ({sentiment_counts[2]})',\n",
    "          f'Positive ({sentiment_counts[1]})',\n",
    "          f'Negative ({sentiment_counts[0]})']\n",
    "\n",
    "# Plot the pie chart\n",
    "plt.figure(figsize=(8, 8))\n",
    "plt.pie(sentiment_counts, labels=sentiment_counts.index, autopct='%1.1f%%', startangle=140)\n",
    "plt.title('Sentiment Distribution')\n",
    "\n",
    "# Add legend\n",
    "plt.legend(labels, title=\"Sentiment Labels\", loc=\"upper right\")\n",
    "\n",
    "plt.show()\n",
    "\n",
    "print('Sentiment analysis completed. Results saved in', input_file)\n"
   ]
  },
  {
   "cell_type": "code",
   "execution_count": 3,
   "id": "489f7c5b",
   "metadata": {},
   "outputs": [
    {
     "data": {
      "image/png": "[encoded data removed]",
      "text/plain": [
       "<Figure size 576x432 with 1 Axes>"
      ]
     },
     "metadata": {
      "needs_background": "light"
     },
     "output_type": "display_data"
    }
   ],
   "source": [
    "import matplotlib.pyplot as plt\n",
    "\n",
    "# Count the number of tweets for each sentiment\n",
    "sentiment_counts = preprocessed_data['Sentiment'].value_counts()\n",
    "\n",
    "# Define colors for the bars and labels\n",
    "colors = ['blue', 'green', 'red']\n",
    "sentiment_labels = ['Neutral', 'Positive', 'Negative']\n",
    "\n",
    "# Create a custom legend with labels and colors\n",
    "legend_labels = [f'{label} ({count})' for label, count in zip(sentiment_labels, sentiment_counts)]\n",
    "legend_handles = [plt.Rectangle((0, 0), 1, 1, color=color) for color in colors]\n",
    "\n",
    "# Plot a bar chart\n",
    "plt.figure(figsize=(8, 6))\n",
    "ax = sentiment_counts.plot(kind='bar', color=colors)\n",
    "plt.title('Sentiment Distribution')\n",
    "plt.xlabel('Sentiment')\n",
    "plt.ylabel('Count')\n",
    "plt.xticks(rotation=0)\n",
    "\n",
    "# Add a legend with custom labels and colors\n",
    "plt.legend(legend_handles, legend_labels, title=\"Sentiment Labels\")\n",
    "\n",
    "plt.show()\n"
   ]
  },
  {
   "cell_type": "code",
   "execution_count": 8,
   "id": "5eb69217",
   "metadata": {},
   "outputs": [
    {
     "data": {
      "text/plain": [
       "<Figure size 1440x2160 with 0 Axes>"
      ]
     },
     "metadata": {},
     "output_type": "display_data"
    },
    {
     "data": {
      "image/png": "[encoded data removed]",
      "text/plain": [
       "<Figure size 432x288 with 1 Axes>"
      ]
     },
     "metadata": {
      "needs_background": "light"
     },
     "output_type": "display_data"
    }
   ],
   "source": [
    "preprocessed_data['PostTime'] = pd.to_datetime(preprocessed_data['PostTime'])\n",
    "\n",
    "# Group by date and calculate sentiment proportions\n",
    "daily_sentiment_counts = preprocessed_data.groupby(preprocessed_data['PostTime'].dt.date)['Sentiment'].value_counts().unstack().fillna(0)\n",
    "\n",
    "# Plot time series line chart\n",
    "plt.figure(figsize=(20, 30))\n",
    "daily_sentiment_counts.plot(kind='line')\n",
    "plt.title('Sentiment Trends Over Time')\n",
    "plt.xlabel('Date')\n",
    "plt.ylabel('Count')\n",
    "plt.legend(title='Sentiment')\n",
    "plt.show()\n"
   ]
  },
  {
   "cell_type": "code",
   "execution_count": 2,
   "id": "828c1218",
   "metadata": {},
   "outputs": [],
   "source": [
    "import pandas as pd\n",
    "from sklearn.feature_extraction.text import TfidfVectorizer\n",
    "from sklearn.model_selection import train_test_split\n",
    "\n",
    "# Load the preprocessed data\n",
    "input_file = 'G:/2-1/english_tweets_with_sentiment_analysis.xlsx'\n",
    "preprocessed_data = pd.read_excel(input_file)\n",
    "\n",
    "# Assume 'PreprocessedTweet' is the column with preprocessed text\n",
    "\n",
    "# Step 1: Preprocess the text data (if not already preprocessed)\n",
    "# You may have your own preprocessing steps here\n",
    "# preprocessed_data['PreprocessedTweet'] = preprocessed_data['OriginalTweet'].apply(preprocess_text)\n",
    "\n",
    "# Step 2: TF-IDF Vectorization\n",
    "# Create a TF-IDF vectorizer\n",
    "tfidf_vectorizer = TfidfVectorizer(max_features=10000)  # Adjust max_features as needed\n",
    "\n",
    "# Apply TF-IDF vectorization to the preprocessed text\n",
    "X = tfidf_vectorizer.fit_transform(preprocessed_data['PreprocessedTweet'])\n",
    "\n",
    "# Assuming 'Sentiment' is the target variable\n",
    "y = preprocessed_data['Sentiment']\n",
    "\n",
    "# Split the data into training and testing sets\n",
    "X_train, X_test, y_train, y_test = train_test_split(X, y, test_size=0.2, random_state=42)\n",
    "\n",
    "# Now, X_train and X_test contain the TF-IDF features for training and testing data, respectively.\n",
    "# y_train and y_test contain the corresponding sentiment labels.\n",
    "\n",
    "# Further steps like model training and evaluation can be performed using the TF-IDF features (X_train and X_test).\n"
   ]
  },
  {
   "cell_type": "code",
   "execution_count": 8,
   "id": "0e862a80",
   "metadata": {},
   "outputs": [
    {
     "name": "stdout",
     "output_type": "stream",
     "text": [
      "Accuracy: 0.8256827425915165\n",
      "Classification Report:\n",
      "               precision    recall  f1-score   support\n",
      "\n",
      "           0       0.90      0.55      0.69       353\n",
      "           1       0.87      0.85      0.86       676\n",
      "           2       0.77      0.94      0.85       692\n",
      "\n",
      "    accuracy                           0.83      1721\n",
      "   macro avg       0.85      0.78      0.80      1721\n",
      "weighted avg       0.84      0.83      0.82      1721\n",
      "\n"
     ]
    }
   ],
   "source": [
    "from sklearn.linear_model import LogisticRegression\n",
    "from sklearn.metrics import accuracy_score, classification_report\n",
    "\n",
    "# Step 3: Train the model\n",
    "# Create and train a Logistic Regression model\n",
    "model = LogisticRegression()\n",
    "model.fit(X_train, y_train)\n",
    "\n",
    "# Step 4: Evaluate the model\n",
    "# Predict sentiment labels for the test set\n",
    "y_pred = model.predict(X_test)\n",
    "\n",
    "# Calculate accuracy and other evaluation metrics\n",
    "accuracy = accuracy_score(y_test, y_pred)\n",
    "classification_report = classification_report(y_test, y_pred)\n",
    "\n",
    "print('Accuracy:', accuracy)\n",
    "print('Classification Report:\\n', classification_report)\n",
    "\n",
    "# You can now use this trained model to make predictions on new text data.\n",
    "# For predictions, you'll need to preprocess the new text similarly and transform it using the TF-IDF vectorizer before using the model.predict() method.\n"
   ]
  },
  {
   "cell_type": "code",
   "execution_count": 1,
   "id": "bcd6ea2d",
   "metadata": {},
   "outputs": [
    {
     "name": "stderr",
     "output_type": "stream",
     "text": [
      "C:\\Users\\Public\\anaconda\\lib\\site-packages\\scipy\\__init__.py:146: UserWarning: A NumPy version >=1.16.5 and <1.23.0 is required for this version of SciPy (detected version 1.25.1\n",
      "  warnings.warn(f\"A NumPy version >={np_minversion} and <{np_maxversion}\"\n"
     ]
    },
    {
     "name": "stdout",
     "output_type": "stream",
     "text": [
      "Bag of Words feature extraction completed.\n"
     ]
    }
   ],
   "source": [
    "import pandas as pd\n",
    "from sklearn.feature_extraction.text import CountVectorizer\n",
    "\n",
    "# Load the preprocessed data\n",
    "input_file = 'G:/2-1/english_tweets_with_sentiment_analysis.xlsx'\n",
    "preprocessed_data = pd.read_excel(input_file)\n",
    "\n",
    "# Assuming 'PreprocessedTweet' column contains the preprocessed text\n",
    "\n",
    "# Create an instance of CountVectorizer\n",
    "vectorizer = CountVectorizer()\n",
    "\n",
    "# Fit the vectorizer on the preprocessed text and transform the text into a Bag of Words representation\n",
    "bow_features = vectorizer.fit_transform(preprocessed_data['PreprocessedTweet'])\n",
    "\n",
    "# Convert the Bag of Words features into a DataFrame\n",
    "bow_df = pd.DataFrame(bow_features.toarray(), columns=vectorizer.get_feature_names_out())\n",
    "\n",
    "# Combine the Bow DataFrame with the original DataFrame (if needed)\n",
    "# For example, adding sentiment labels back to the Bow DataFrame\n",
    "bow_df['Sentiment'] = preprocessed_data['Sentiment']\n",
    "\n",
    "# Save the Bow DataFrame to a file\n",
    "\n",
    "print('Bag of Words feature extraction completed.')\n"
   ]
  },
  {
   "cell_type": "code",
   "execution_count": 2,
   "id": "78972bf3",
   "metadata": {},
   "outputs": [
    {
     "name": "stdout",
     "output_type": "stream",
     "text": [
      "Accuracy: 0.8797210923881464\n",
      "Classification Report:\n",
      "              precision    recall  f1-score   support\n",
      "\n",
      "           0       0.88      0.72      0.79       353\n",
      "           1       0.92      0.89      0.90       676\n",
      "           2       0.85      0.95      0.90       692\n",
      "\n",
      "    accuracy                           0.88      1721\n",
      "   macro avg       0.88      0.85      0.86      1721\n",
      "weighted avg       0.88      0.88      0.88      1721\n",
      "\n"
     ]
    }
   ],
   "source": [
    "import pandas as pd\n",
    "\n",
    "from sklearn.model_selection import train_test_split\n",
    "from sklearn.linear_model import LogisticRegression\n",
    "from sklearn.metrics import accuracy_score, classification_report\n",
    "\n",
    "\n",
    "# Combine the Bow DataFrame with the original DataFrame\n",
    "# Adding sentiment labels back to the Bow DataFrame\n",
    "bow_df['Sentiment'] = preprocessed_data['Sentiment']\n",
    "\n",
    "# Split the data into training and testing sets\n",
    "X = bow_df.drop('Sentiment', axis=1)  # Features\n",
    "y = bow_df['Sentiment']  # Labels\n",
    "X_train, X_test, y_train, y_test = train_test_split(X, y, test_size=0.2, random_state=42)\n",
    "\n",
    "# Train a logistic regression model\n",
    "logistic_model = LogisticRegression(max_iter=1000)\n",
    "logistic_model.fit(X_train, y_train)\n",
    "\n",
    "# Predict on the test set\n",
    "y_pred = logistic_model.predict(X_test)\n",
    "\n",
    "# Evaluate the model\n",
    "accuracy = accuracy_score(y_test, y_pred)\n",
    "print('Accuracy:', accuracy)\n",
    "\n",
    "# Display classification report\n",
    "print('Classification Report:')\n",
    "print(classification_report(y_test, y_pred))\n",
    "\n",
    "# Optionally, save the logistic regression model to a file\n",
    "# model_save_path = 'path/to/save/model.pkl'\n",
    "# joblib.dump(logistic_model, model_save_path)\n"
   ]
  },
  {
   "cell_type": "code",
   "execution_count": 10,
   "id": "40e75d39",
   "metadata": {},
   "outputs": [
    {
     "name": "stderr",
     "output_type": "stream",
     "text": [
      "C:\\Users\\Public\\anaconda\\lib\\site-packages\\sklearn\\model_selection\\_validation.py:372: FitFailedWarning: \n",
      "90 fits failed out of a total of 180.\n",
      "The score on these train-test partitions for these parameters will be set to nan.\n",
      "If these failures are not expected, you can try to debug them by setting error_score='raise'.\n",
      "\n",
      "Below are more details about the failures:\n",
      "--------------------------------------------------------------------------------\n",
      "90 fits failed with the following error:\n",
      "Traceback (most recent call last):\n",
      "  File \"C:\\Users\\Public\\anaconda\\lib\\site-packages\\sklearn\\model_selection\\_validation.py\", line 680, in _fit_and_score\n",
      "    estimator.fit(X_train, y_train, **fit_params)\n",
      "  File \"C:\\Users\\Public\\anaconda\\lib\\site-packages\\sklearn\\linear_model\\_logistic.py\", line 1461, in fit\n",
      "    solver = _check_solver(self.solver, self.penalty, self.dual)\n",
      "  File \"C:\\Users\\Public\\anaconda\\lib\\site-packages\\sklearn\\linear_model\\_logistic.py\", line 447, in _check_solver\n",
      "    raise ValueError(\n",
      "ValueError: Solver lbfgs supports only 'l2' or 'none' penalties, got l1 penalty.\n",
      "\n",
      "  warnings.warn(some_fits_failed_message, FitFailedWarning)\n",
      "C:\\Users\\Public\\anaconda\\lib\\site-packages\\sklearn\\model_selection\\_search.py:969: UserWarning: One or more of the test scores are non-finite: [       nan 0.42394298        nan 0.42394298        nan 0.42394298\n",
      "        nan 0.46898043        nan 0.46898043        nan 0.46898043\n",
      "        nan 0.68865276        nan 0.68865276        nan 0.68865276\n",
      "        nan 0.82246056        nan 0.82246056        nan 0.82246056\n",
      "        nan 0.85892951        nan 0.85892951        nan 0.85892951\n",
      "        nan 0.8653219         nan 0.86517655        nan 0.86517655]\n",
      "  warnings.warn(\n",
      "C:\\Users\\Public\\anaconda\\lib\\site-packages\\sklearn\\linear_model\\_logistic.py:814: ConvergenceWarning: lbfgs failed to converge (status=1):\n",
      "STOP: TOTAL NO. of ITERATIONS REACHED LIMIT.\n",
      "\n",
      "Increase the number of iterations (max_iter) or scale the data as shown in:\n",
      "    https://scikit-learn.org/stable/modules/preprocessing.html\n",
      "Please also refer to the documentation for alternative solver options:\n",
      "    https://scikit-learn.org/stable/modules/linear_model.html#logistic-regression\n",
      "  n_iter_i = _check_optimize_result(\n"
     ]
    },
    {
     "name": "stdout",
     "output_type": "stream",
     "text": [
      "Best Hyperparameters: {'C': 100, 'max_iter': 200, 'penalty': 'l2'}\n",
      "Cross-validated Accuracy: 0.8653218996470251\n",
      "Test Set Accuracy: 0.8739105171411969\n",
      "Classification Report:\n",
      "              precision    recall  f1-score   support\n",
      "\n",
      "           0       0.89      0.73      0.80       353\n",
      "           1       0.90      0.89      0.89       676\n",
      "           2       0.84      0.93      0.89       692\n",
      "\n",
      "    accuracy                           0.87      1721\n",
      "   macro avg       0.88      0.85      0.86      1721\n",
      "weighted avg       0.88      0.87      0.87      1721\n",
      "\n"
     ]
    },
    {
     "name": "stderr",
     "output_type": "stream",
     "text": [
      "C:\\Users\\Public\\anaconda\\lib\\site-packages\\sklearn\\linear_model\\_logistic.py:814: ConvergenceWarning: lbfgs failed to converge (status=1):\n",
      "STOP: TOTAL NO. of ITERATIONS REACHED LIMIT.\n",
      "\n",
      "Increase the number of iterations (max_iter) or scale the data as shown in:\n",
      "    https://scikit-learn.org/stable/modules/preprocessing.html\n",
      "Please also refer to the documentation for alternative solver options:\n",
      "    https://scikit-learn.org/stable/modules/linear_model.html#logistic-regression\n",
      "  n_iter_i = _check_optimize_result(\n"
     ]
    }
   ],
   "source": [
    "import pandas as pd\n",
    "from sklearn.feature_extraction.text import TfidfVectorizer\n",
    "from sklearn.model_selection import train_test_split\n",
    "from sklearn.model_selection import GridSearchCV\n",
    "from sklearn.linear_model import LogisticRegression\n",
    "from sklearn.metrics import accuracy_score,classification_report  # Add this import\n",
    "\n",
    "# Load and preprocess your data as shown in your previous code\n",
    "\n",
    "# Split the data into training and testing sets\n",
    "X_train, X_test, y_train, y_test = train_test_split(X, y, test_size=0.2, random_state=42)\n",
    "\n",
    "# Define the model you want to tune (e.g., Logistic Regression)\n",
    "model = LogisticRegression()\n",
    "\n",
    "# Define a dictionary of hyperparameters and their potential values to search over\n",
    "param_grid = {\n",
    "    'C': [0.001, 0.01, 0.1, 1, 10, 100],  # Example values for the regularization parameter\n",
    "    'penalty': ['l1', 'l2'],  # Example penalty types\n",
    "    'max_iter': [200, 300, 400]  # Example values for the maximum number of iterations\n",
    "}\n",
    "\n",
    "# Create a GridSearchCV object\n",
    "grid_search = GridSearchCV(model, param_grid, cv=5, scoring='accuracy', n_jobs=-1)\n",
    "\n",
    "# Perform the grid search\n",
    "grid_search.fit(X_train, y_train)\n",
    "\n",
    "# Get the best hyperparameters\n",
    "best_params = grid_search.best_params_\n",
    "best_score = grid_search.best_score_\n",
    "\n",
    "# Train a model with the best hyperparameters on the full training data\n",
    "best_model = LogisticRegression(**best_params)\n",
    "best_model.fit(X_train, y_train)\n",
    "\n",
    "# Evaluate the best model on the test set\n",
    "y_pred = best_model.predict(X_test)\n",
    "accuracy = accuracy_score(y_test, y_pred)\n",
    "\n",
    "print(f\"Best Hyperparameters: {best_params}\")\n",
    "print(f\"Cross-validated Accuracy: {best_score}\")\n",
    "print(f\"Test Set Accuracy: {accuracy}\")\n",
    "print('Classification Report:')\n",
    "print(classification_report(y_test, y_pred))"
   ]
  },
  {
   "cell_type": "code",
   "execution_count": 2,
   "id": "08858086",
   "metadata": {},
   "outputs": [
    {
     "name": "stdout",
     "output_type": "stream",
     "text": [
      "Accuracy: 0.9041255084253341\n",
      "Classification Report:\n",
      "              precision    recall  f1-score   support\n",
      "\n",
      "           0       0.92      0.74      0.82       353\n",
      "           1       0.91      0.91      0.91       676\n",
      "           2       0.89      0.99      0.94       692\n",
      "\n",
      "    accuracy                           0.90      1721\n",
      "   macro avg       0.91      0.88      0.89      1721\n",
      "weighted avg       0.91      0.90      0.90      1721\n",
      "\n"
     ]
    }
   ],
   "source": [
    "from sklearn.ensemble import RandomForestClassifier\n",
    "from sklearn.metrics import accuracy_score, classification_report\n",
    "\n",
    "# Create a Random Forest classifier\n",
    "random_forest = RandomForestClassifier(n_estimators=100, random_state=42)  # You can adjust the number of trees (n_estimators)\n",
    "\n",
    "# Train the Random Forest model on the training data\n",
    "random_forest.fit(X_train, y_train)\n",
    "\n",
    "# Make predictions on the test data\n",
    "y_pred = random_forest.predict(X_test)\n",
    "\n",
    "# Evaluate the model\n",
    "accuracy = accuracy_score(y_test, y_pred)\n",
    "print('Accuracy:', accuracy)\n",
    "\n",
    "# Display a classification report for more detailed metrics\n",
    "print('Classification Report:')\n",
    "print(classification_report(y_test, y_pred))\n"
   ]
  },
  {
   "cell_type": "code",
   "execution_count": 2,
   "id": "14316c0c",
   "metadata": {},
   "outputs": [
    {
     "name": "stdout",
     "output_type": "stream",
     "text": [
      "Accuracy: 0.8274259151656014\n",
      "Classification Report:\n",
      "              precision    recall  f1-score   support\n",
      "\n",
      "           0       0.90      0.58      0.71       353\n",
      "           1       0.93      0.79      0.85       676\n",
      "           2       0.75      0.99      0.85       692\n",
      "\n",
      "    accuracy                           0.83      1721\n",
      "   macro avg       0.86      0.79      0.80      1721\n",
      "weighted avg       0.85      0.83      0.82      1721\n",
      "\n"
     ]
    }
   ],
   "source": [
    "from sklearn.ensemble import GradientBoostingClassifier\n",
    "from sklearn.metrics import accuracy_score, classification_report\n",
    "\n",
    "# Create a GradientBoostingClassifier\n",
    "gbm = GradientBoostingClassifier(n_estimators=100, random_state=42)  # You can adjust n_estimators as needed\n",
    "\n",
    "# Train the GBM model on the training data\n",
    "gbm.fit(X_train, y_train)\n",
    "\n",
    "# Predict on the test data\n",
    "y_pred = gbm.predict(X_test)\n",
    "\n",
    "# Evaluate the model\n",
    "accuracy = accuracy_score(y_test, y_pred)\n",
    "print('Accuracy:', accuracy)\n",
    "\n",
    "# Display classification report\n",
    "print('Classification Report:')\n",
    "print(classification_report(y_test, y_pred))\n"
   ]
  },
  {
   "cell_type": "code",
   "execution_count": 3,
   "id": "2d2aa6f0",
   "metadata": {},
   "outputs": [
    {
     "name": "stdout",
     "output_type": "stream",
     "text": [
      "Accuracy: 0.9337594421847762\n",
      "Classification Report:\n",
      "              precision    recall  f1-score   support\n",
      "\n",
      "           0       0.94      0.81      0.87       353\n",
      "           1       0.92      0.95      0.94       676\n",
      "           2       0.94      0.98      0.96       692\n",
      "\n",
      "    accuracy                           0.93      1721\n",
      "   macro avg       0.93      0.91      0.92      1721\n",
      "weighted avg       0.93      0.93      0.93      1721\n",
      "\n"
     ]
    }
   ],
   "source": [
    "from sklearn.ensemble import ExtraTreesClassifier\n",
    "from sklearn.metrics import accuracy_score, classification_report\n",
    "\n",
    "# Assuming you have already split your data into X_train, X_test, y_train, and y_test as in the previous code.\n",
    "\n",
    "# Create an instance of the Extra Trees Classifier\n",
    "etc_model = ExtraTreesClassifier(n_estimators=100, random_state=42)  # You can adjust n_estimators and other hyperparameters\n",
    "\n",
    "# Train the Extra Trees Classifier on the training data\n",
    "etc_model.fit(X_train, y_train)\n",
    "\n",
    "# Predict on the test data\n",
    "y_pred = etc_model.predict(X_test)\n",
    "\n",
    "# Evaluate the model\n",
    "accuracy = accuracy_score(y_test, y_pred)\n",
    "print('Accuracy:', accuracy)\n",
    "\n",
    "# Display a classification report\n",
    "print('Classification Report:')\n",
    "print(classification_report(y_test, y_pred))\n"
   ]
  },
  {
   "cell_type": "code",
   "execution_count": 4,
   "id": "7c1cc2d0",
   "metadata": {},
   "outputs": [
    {
     "name": "stdout",
     "output_type": "stream",
     "text": [
      "Accuracy: 0.821034282393957\n",
      "Classification Report:\n",
      "              precision    recall  f1-score   support\n",
      "\n",
      "           0       0.95      0.55      0.69       353\n",
      "           1       0.87      0.83      0.85       676\n",
      "           2       0.75      0.96      0.84       692\n",
      "\n",
      "    accuracy                           0.82      1721\n",
      "   macro avg       0.86      0.78      0.80      1721\n",
      "weighted avg       0.84      0.82      0.81      1721\n",
      "\n"
     ]
    }
   ],
   "source": [
    "from sklearn.svm import SVC\n",
    "from sklearn.metrics import accuracy_score, classification_report\n",
    "\n",
    "# Assuming you have already prepared your TF-IDF features and split the data into X_train, X_test, y_train, and y_test as shown in your previous code\n",
    "\n",
    "# Create an instance of the SVM classifier\n",
    "svm_classifier = SVC()\n",
    "\n",
    "# Train the SVM classifier on the training data\n",
    "svm_classifier.fit(X_train, y_train)\n",
    "\n",
    "# Predict sentiment labels on the test data\n",
    "y_pred = svm_classifier.predict(X_test)\n",
    "\n",
    "# Evaluate the SVM classifier\n",
    "accuracy = accuracy_score(y_test, y_pred)\n",
    "print('Accuracy:', accuracy)\n",
    "\n",
    "# Display a classification report\n",
    "print('Classification Report:')\n",
    "print(classification_report(y_test, y_pred))\n"
   ]
  },
  {
   "cell_type": "code",
   "execution_count": 5,
   "id": "189ce14b",
   "metadata": {},
   "outputs": [
    {
     "name": "stdout",
     "output_type": "stream",
     "text": [
      "Bag of Words feature extraction completed.\n"
     ]
    }
   ],
   "source": [
    "import pandas as pd\n",
    "from sklearn.feature_extraction.text import CountVectorizer\n",
    "\n",
    "# Load the preprocessed data\n",
    "input_file = 'G:/2-1/english_tweets_with_sentiment_analysis.xlsx'\n",
    "preprocessed_data = pd.read_excel(input_file)\n",
    "\n",
    "# Assuming 'PreprocessedTweet' column contains the preprocessed text\n",
    "\n",
    "# Create an instance of CountVectorizer\n",
    "vectorizer = CountVectorizer()\n",
    "\n",
    "# Fit the vectorizer on the preprocessed text and transform the text into a Bag of Words representation\n",
    "bow_features = vectorizer.fit_transform(preprocessed_data['PreprocessedTweet'])\n",
    "\n",
    "# Convert the Bag of Words features into a DataFrame\n",
    "bow_df = pd.DataFrame(bow_features.toarray(), columns=vectorizer.get_feature_names_out())\n",
    "\n",
    "# Combine the Bow DataFrame with the original DataFrame (if needed)\n",
    "# For example, adding sentiment labels back to the Bow DataFrame\n",
    "bow_df['Sentiment'] = preprocessed_data['Sentiment']\n",
    "\n",
    "# Save the Bow DataFrame to a file\n",
    "\n",
    "print('Bag of Words feature extraction completed.')\n"
   ]
  },
  {
   "cell_type": "code",
   "execution_count": 7,
   "id": "8b867276",
   "metadata": {},
   "outputs": [
    {
     "name": "stdout",
     "output_type": "stream",
     "text": [
      "Accuracy: 0.9233004067402673\n",
      "Classification Report:\n",
      "              precision    recall  f1-score   support\n",
      "\n",
      "           0       0.94      0.77      0.85       353\n",
      "           1       0.93      0.93      0.93       676\n",
      "           2       0.91      0.99      0.95       692\n",
      "\n",
      "    accuracy                           0.92      1721\n",
      "   macro avg       0.93      0.90      0.91      1721\n",
      "weighted avg       0.92      0.92      0.92      1721\n",
      "\n"
     ]
    }
   ],
   "source": [
    "from sklearn.ensemble import RandomForestClassifier\n",
    "from sklearn.model_selection import train_test_split\n",
    "from sklearn.metrics import accuracy_score, classification_report\n",
    "  # Replace 'path_to_bow_features.xlsx' with the actual path\n",
    "\n",
    "# Split the data into features (X) and target labels (y)\n",
    "X = bow_df.drop('Sentiment', axis=1)  # Features\n",
    "y = bow_df['Sentiment']  # Labels\n",
    "\n",
    "# Split the data into training and testing sets\n",
    "X_train, X_test, y_train, y_test = train_test_split(X, y, test_size=0.2, random_state=42)\n",
    "\n",
    "# Create an instance of the Random Forest classifier\n",
    "rf_classifier = RandomForestClassifier(n_estimators=100, random_state=42)  # You can adjust the number of estimators as needed\n",
    "\n",
    "# Train the Random Forest classifier on the training data\n",
    "rf_classifier.fit(X_train, y_train)\n",
    "\n",
    "# Predict sentiment labels on the test data\n",
    "y_pred = rf_classifier.predict(X_test)\n",
    "\n",
    "# Evaluate the Random Forest classifier\n",
    "accuracy = accuracy_score(y_test, y_pred)\n",
    "print('Accuracy:', accuracy)\n",
    "\n",
    "# Display a classification report\n",
    "print('Classification Report:')\n",
    "print(classification_report(y_test, y_pred))\n"
   ]
  },
  {
   "cell_type": "code",
   "execution_count": 8,
   "id": "e125a2b5",
   "metadata": {},
   "outputs": [
    {
     "name": "stdout",
     "output_type": "stream",
     "text": [
      "Accuracy: 0.8285880302149913\n",
      "Classification Report:\n",
      "              precision    recall  f1-score   support\n",
      "\n",
      "           0       0.90      0.59      0.71       353\n",
      "           1       0.94      0.79      0.86       676\n",
      "           2       0.74      0.99      0.85       692\n",
      "\n",
      "    accuracy                           0.83      1721\n",
      "   macro avg       0.86      0.79      0.81      1721\n",
      "weighted avg       0.85      0.83      0.82      1721\n",
      "\n"
     ]
    }
   ],
   "source": [
    "import pandas as pd\n",
    "from sklearn.feature_extraction.text import CountVectorizer\n",
    "from sklearn.ensemble import GradientBoostingClassifier\n",
    "from sklearn.model_selection import train_test_split\n",
    "from sklearn.metrics import accuracy_score, classification_report\n",
    "\n",
    "# Split the data into features (X) and labels (y)\n",
    "X = bow_df.drop('Sentiment', axis=1)  # Features\n",
    "y = bow_df['Sentiment']  # Labels\n",
    "\n",
    "# Split the data into training and testing sets\n",
    "X_train, X_test, y_train, y_test = train_test_split(X, y, test_size=0.2, random_state=42)\n",
    "\n",
    "# Create an instance of the GradientBoostingClassifier\n",
    "gbm_classifier = GradientBoostingClassifier()\n",
    "\n",
    "# Train the GBM classifier on the training data\n",
    "gbm_classifier.fit(X_train, y_train)\n",
    "\n",
    "# Predict sentiment labels on the test data\n",
    "y_pred = gbm_classifier.predict(X_test)\n",
    "\n",
    "# Evaluate the GBM classifier\n",
    "accuracy = accuracy_score(y_test, y_pred)\n",
    "print('Accuracy:', accuracy)\n",
    "\n",
    "# Display a classification report\n",
    "print('Classification Report:')\n",
    "print(classification_report(y_test, y_pred))\n"
   ]
  },
  {
   "cell_type": "code",
   "execution_count": 9,
   "id": "3de825b3",
   "metadata": {},
   "outputs": [
    {
     "name": "stdout",
     "output_type": "stream",
     "text": [
      "Accuracy: 0.9343404997094712\n",
      "Classification Report:\n",
      "              precision    recall  f1-score   support\n",
      "\n",
      "           0       0.96      0.80      0.87       353\n",
      "           1       0.92      0.95      0.94       676\n",
      "           2       0.94      0.98      0.96       692\n",
      "\n",
      "    accuracy                           0.93      1721\n",
      "   macro avg       0.94      0.91      0.92      1721\n",
      "weighted avg       0.94      0.93      0.93      1721\n",
      "\n"
     ]
    }
   ],
   "source": [
    "from sklearn.ensemble import ExtraTreesClassifier\n",
    "from sklearn.model_selection import train_test_split\n",
    "from sklearn.metrics import accuracy_score, classification_report\n",
    "\n",
    "# Assuming you have already prepared your BoW features and split the data into X_train, X_test, y_train, and y_test as shown in your previous code\n",
    "\n",
    "# Create an instance of the Extra Trees Classifier\n",
    "et_classifier = ExtraTreesClassifier(n_estimators=100, random_state=42)  # You can adjust parameters as needed\n",
    "\n",
    "# Train the Extra Trees Classifier on the training data\n",
    "et_classifier.fit(X_train, y_train)\n",
    "\n",
    "# Predict sentiment labels on the test data\n",
    "y_pred = et_classifier.predict(X_test)\n",
    "\n",
    "# Evaluate the Extra Trees Classifier\n",
    "accuracy = accuracy_score(y_test, y_pred)\n",
    "print('Accuracy:', accuracy)\n",
    "\n",
    "# Display a classification report\n",
    "print('Classification Report:')\n",
    "print(classification_report(y_test, y_pred))\n"
   ]
  },
  {
   "cell_type": "code",
   "execution_count": 10,
   "id": "c6db07af",
   "metadata": {},
   "outputs": [
    {
     "name": "stdout",
     "output_type": "stream",
     "text": [
      "Accuracy: 0.8128994770482277\n",
      "Classification Report:\n",
      "              precision    recall  f1-score   support\n",
      "\n",
      "           0       0.92      0.52      0.66       353\n",
      "           1       0.83      0.86      0.84       676\n",
      "           2       0.77      0.92      0.84       692\n",
      "\n",
      "    accuracy                           0.81      1721\n",
      "   macro avg       0.84      0.76      0.78      1721\n",
      "weighted avg       0.83      0.81      0.80      1721\n",
      "\n"
     ]
    }
   ],
   "source": [
    "from sklearn.model_selection import train_test_split\n",
    "from sklearn.svm import SVC\n",
    "from sklearn.metrics import accuracy_score, classification_report\n",
    "\n",
    "# Split the BoW data into features (X) and labels (y)\n",
    "X = bow_df.drop('Sentiment', axis=1)  # Features\n",
    "y = bow_df['Sentiment']  # Labels\n",
    "\n",
    "# Split the data into training and testing sets\n",
    "X_train, X_test, y_train, y_test = train_test_split(X, y, test_size=0.2, random_state=42)\n",
    "\n",
    "# Create an instance of the SVM classifier\n",
    "svm_classifier = SVC()\n",
    "\n",
    "# Train the SVM classifier on the training data\n",
    "svm_classifier.fit(X_train, y_train)\n",
    "\n",
    "# Predict sentiment labels on the test data\n",
    "y_pred = svm_classifier.predict(X_test)\n",
    "\n",
    "# Evaluate the SVM classifier\n",
    "accuracy = accuracy_score(y_test, y_pred)\n",
    "print('Accuracy:', accuracy)\n",
    "\n",
    "# Display a classification report\n",
    "print('Classification Report:')\n",
    "print(classification_report(y_test, y_pred))\n"
   ]
  },
  {
   "cell_type": "code",
   "execution_count": 3,
   "id": "62b322f5",
   "metadata": {},
   "outputs": [
    {
     "data": {
      "image/png": "[encoded data removed]",
      "text/plain": [
       "<Figure size 432x288 with 1 Axes>"
      ]
     },
     "metadata": {
      "needs_background": "light"
     },
     "output_type": "display_data"
    }
   ],
   "source": [
    "import matplotlib.pyplot as plt\n",
    "\n",
    "data = {\n",
    "    'Row Labels': ['Budget India', 'Demonetization India', 'Economic policy', 'Economy India', 'Fiscal policy', 'GST India', 'Monetary policy', 'Public debt', 'Taxation'],\n",
    "    'Negative': [23, 18, 2, 363, 2, 48, 1, 2, 16],\n",
    "    'Neutral': [97, 50, 5, 653, 4, 160, 4, 3, 39],\n",
    "    'Positive': [63, 25, 14, 658, 3, 78, 5, 0, 52]\n",
    "}\n",
    "\n",
    "# You can change the colors as desired by specifying them for each bar\n",
    "# For example, using predefined colors like 'blue', 'purple', and 'orange'\n",
    "plt.bar(data['Row Labels'], data['Negative'], label='Negative', color='blue')\n",
    "plt.bar(data['Row Labels'], data['Neutral'], bottom=data['Negative'], label='Neutral', color='purple')\n",
    "plt.bar(data['Row Labels'], data['Positive'], bottom=[i + j for i, j in zip(data['Negative'], data['Neutral'])], label='Positive', color='orange')\n",
    "\n",
    "plt.xlabel('Row Labels')\n",
    "plt.ylabel('Sentiment Count')\n",
    "plt.title('Sentiment Distribution by Category')\n",
    "plt.legend()\n",
    "plt.xticks(rotation=45, ha='right')\n",
    "plt.tight_layout()\n",
    "plt.show()\n"
   ]
  },
  {
   "cell_type": "code",
   "execution_count": 4,
   "id": "afa4c742",
   "metadata": {},
   "outputs": [
    {
     "data": {
      "image/png": "[encoded data removed]",
      "text/plain": [
       "<Figure size 720x432 with 1 Axes>"
      ]
     },
     "metadata": {
      "needs_background": "light"
     },
     "output_type": "display_data"
    }
   ],
   "source": [
    "import numpy as np\n",
    "import matplotlib.pyplot as plt\n",
    "\n",
    "topic = ['Budget India', 'Demonetization India', 'Economic policy', 'Economy India', 'Fiscal policy', 'GST India', 'Monetary policy', 'Public debt', 'Taxation']\n",
    "negative = [23, 18, 2, 363, 2, 48, 1, 2, 16]\n",
    "neutral = [97, 50, 5, 653, 4, 160, 4, 3, 39]\n",
    "positive = [63, 25, 14, 658, 3, 78, 5, 0, 52]\n",
    "x = np.arange(len(row_labels))\n",
    "width = 0.2\n",
    "\n",
    "plt.figure(figsize=(10, 6))\n",
    "plt.bar(x - width, negative, width, label='Negative', color='red')\n",
    "plt.bar(x, neutral, width, label='Neutral', color='yellow')\n",
    "plt.bar(x + width, positive, width, label='Positive', color='green')\n",
    "\n",
    "plt.xlabel('Topic')\n",
    "plt.ylabel('Sentiment Count')\n",
    "plt.title('Sentiment Distribution')\n",
    "plt.xticks(x, row_labels, rotation=45, ha='right')\n",
    "plt.legend()\n",
    "plt.tight_layout()\n",
    "plt.show()\n"
   ]
  },
  {
   "cell_type": "code",
   "execution_count": 5,
   "id": "ba285046",
   "metadata": {},
   "outputs": [
    {
     "data": {
      "image/png": "[encoded data removed]",
      "text/plain": [
       "<Figure size 432x288 with 1 Axes>"
      ]
     },
     "metadata": {
      "needs_background": "light"
     },
     "output_type": "display_data"
    }
   ],
   "source": [
    "import matplotlib.pyplot as plt\n",
    "\n",
    "# Data\n",
    "categories = [\"Employment\", \"Poverty India\", \"Unemployment India\"]\n",
    "negative = [82, 32, 91]\n",
    "neutral = [52, 80, 102]\n",
    "positive = [64, 61, 135]\n",
    "\n",
    "# Create the figure and axis\n",
    "fig, ax = plt.subplots()\n",
    "\n",
    "# Width of each bar\n",
    "width = 0.35\n",
    "\n",
    "# Bar positions\n",
    "x = range(len(categories))\n",
    "\n",
    "# Create the stacked bar chart\n",
    "ax.bar(x, negative, width, label='Negative', color='red')\n",
    "ax.bar(x, neutral, width, label='Neutral', bottom=negative, color='gray')\n",
    "ax.bar(x, positive, width, label='Positive', bottom=[n + ne for n, ne in zip(negative, neutral)], color='green')\n",
    "\n",
    "# Set the x-axis labels\n",
    "ax.set_xticks([i + width / 2 for i in x])\n",
    "ax.set_xticklabels(categories)\n",
    "\n",
    "# Set the y-axis label\n",
    "ax.set_ylabel('Sentiment Counts')\n",
    "\n",
    "# Set the title\n",
    "ax.set_title('Sentiment Distribution for Social and Welfare Aspects')\n",
    "\n",
    "# Add a legend\n",
    "ax.legend()\n",
    "\n",
    "# Show the plot\n",
    "plt.show()\n"
   ]
  },
  {
   "cell_type": "code",
   "execution_count": 6,
   "id": "03648fc3",
   "metadata": {},
   "outputs": [
    {
     "data": {
      "image/png": "[encoded data removed]",
      "text/plain": [
       "<Figure size 432x288 with 1 Axes>"
      ]
     },
     "metadata": {
      "needs_background": "light"
     },
     "output_type": "display_data"
    }
   ],
   "source": [
    "import matplotlib.pyplot as plt\n",
    "import numpy as np\n",
    "\n",
    "# Data\n",
    "indicators = [\"Consumer spending India\", \"Economic growth\", \"Economic indicators\", \"GDP India\", \"Inflation\", \"Rupee\", \"Stock market\"]\n",
    "negative = [3, 17, 2, 210, 56, 32, 88]\n",
    "neutral = [6, 32, 6, 439, 68, 144, 260]\n",
    "positive = [3, 38, 4, 352, 66, 91, 210]\n",
    "\n",
    "# Create the figure and axis\n",
    "fig, ax = plt.subplots()\n",
    "\n",
    "# Bar positions\n",
    "x = np.arange(len(indicators))\n",
    "width = 0.2  # Width of each bar\n",
    "\n",
    "# Create grouped bar chart\n",
    "ax.bar(x - width, negative, width, label='Negative', color='red')\n",
    "ax.bar(x, neutral, width, label='Neutral', color='gray')\n",
    "ax.bar(x + width, positive, width, label='Positive', color='green')\n",
    "\n",
    "# Set the x-axis positions and labels\n",
    "ax.set_xticks(x)\n",
    "ax.set_xticklabels(indicators, rotation=90)\n",
    "\n",
    "# Set the y-axis label\n",
    "ax.set_ylabel('Sentiment Counts')\n",
    "\n",
    "# Set the title\n",
    "ax.set_title('Sentiment Distribution for Macro Economic Indicators')\n",
    "\n",
    "# Add a legend\n",
    "ax.legend()\n",
    "\n",
    "# Show the plot\n",
    "plt.tight_layout()\n",
    "plt.show()\n"
   ]
  },
  {
   "cell_type": "code",
   "execution_count": 7,
   "id": "3f914b51",
   "metadata": {},
   "outputs": [
    {
     "data": {
      "image/png": "[encoded data removed]",
      "text/plain": [
       "<Figure size 432x288 with 1 Axes>"
      ]
     },
     "metadata": {
      "needs_background": "light"
     },
     "output_type": "display_data"
    }
   ],
   "source": [
    "import matplotlib.pyplot as plt\n",
    "\n",
    "# Data\n",
    "indicators = [\"Consumer spending India\", \"Economic growth\", \"Economic indicators\", \"GDP India\", \"Inflation\", \"Rupee\", \"Stock market\"]\n",
    "negative = [3, 17, 2, 210, 56, 32, 88]\n",
    "neutral = [6, 32, 6, 439, 68, 144, 260]\n",
    "positive = [3, 38, 4, 352, 66, 91, 210]\n",
    "\n",
    "# Create the figure and axis\n",
    "fig, ax = plt.subplots()\n",
    "\n",
    "# Width of each bar\n",
    "width = 0.35\n",
    "\n",
    "# Bar positions\n",
    "x = range(len(indicators))\n",
    "\n",
    "# Create the stacked bar chart\n",
    "ax.bar(x, negative, width, label='Negative', color='red')\n",
    "ax.bar(x, neutral, width, label='Neutral', bottom=negative, color='gray')\n",
    "ax.bar(x, positive, width, label='Positive', bottom=[n + ne for n, ne in zip(negative, neutral)], color='green')\n",
    "\n",
    "# Set the x-axis labels\n",
    "ax.set_xticks([i + width / 2 for i in x])\n",
    "ax.set_xticklabels(indicators, rotation=90)  # Rotate x-axis labels for better visibility\n",
    "\n",
    "# Set the y-axis label\n",
    "ax.set_ylabel('Sentiment Counts')\n",
    "\n",
    "# Set the title\n",
    "ax.set_title('Sentiment Distribution for Macro Economic Indicators')\n",
    "\n",
    "# Add a legend\n",
    "ax.legend()\n",
    "\n",
    "# Show the plot\n",
    "plt.tight_layout()\n",
    "plt.show()\n"
   ]
  },
  {
   "cell_type": "code",
   "execution_count": 8,
   "id": "da37d2ce",
   "metadata": {},
   "outputs": [
    {
     "data": {
      "image/png": "[encoded data removed]",
      "text/plain": [
       "<Figure size 432x288 with 1 Axes>"
      ]
     },
     "metadata": {
      "needs_background": "light"
     },
     "output_type": "display_data"
    }
   ],
   "source": [
    "import matplotlib.pyplot as plt\n",
    "import numpy as np\n",
    "\n",
    "# Data\n",
    "topics = [\"Export Import\", \"Financial market\", \"Foreign investment\", \"Trade deficit\", \"Trade India\"]\n",
    "negative = [19, 2, 20, 5, 98]\n",
    "neutral = [32, 2, 47, 12, 149]\n",
    "positive = [24, 0, 38, 13, 181]\n",
    "\n",
    "# Create the figure and axis\n",
    "fig, ax = plt.subplots()\n",
    "\n",
    "# Bar positions\n",
    "x = np.arange(len(topics))\n",
    "width = 0.2  # Width of each bar\n",
    "\n",
    "# Create grouped bar chart\n",
    "ax.bar(x - width, negative, width, label='Negative', color='red')\n",
    "ax.bar(x, neutral, width, label='Neutral', color='gray')\n",
    "ax.bar(x + width, positive, width, label='Positive', color='green')\n",
    "\n",
    "# Set the x-axis positions and labels\n",
    "ax.set_xticks(x)\n",
    "ax.set_xticklabels(topics, rotation=30)\n",
    "\n",
    "# Set the y-axis label\n",
    "ax.set_ylabel('Sentiment Counts')\n",
    "\n",
    "# Set the title\n",
    "ax.set_title('Sentiment Distribution for Trade and Market Topics')\n",
    "\n",
    "# Add a legend\n",
    "ax.legend()\n",
    "\n",
    "# Show the plot\n",
    "plt.tight_layout()\n",
    "plt.show()\n"
   ]
  },
  {
   "cell_type": "code",
   "execution_count": 9,
   "id": "61cd4eec",
   "metadata": {},
   "outputs": [
    {
     "data": {
      "image/png": "[encoded data removed]",
      "text/plain": [
       "<Figure size 432x288 with 1 Axes>"
      ]
     },
     "metadata": {
      "needs_background": "light"
     },
     "output_type": "display_data"
    }
   ],
   "source": [
    "import matplotlib.pyplot as plt\n",
    "\n",
    "# Data\n",
    "topics = [\"Export Import\", \"Financial market\", \"Foreign investment\", \"Trade deficit\", \"Trade India\"]\n",
    "negative = [19, 2, 20, 5, 98]\n",
    "neutral = [32, 2, 47, 12, 149]\n",
    "positive = [24, 0, 38, 13, 181]\n",
    "\n",
    "# Create the figure and axis\n",
    "fig, ax = plt.subplots()\n",
    "\n",
    "# Bar positions\n",
    "y = range(len(topics))\n",
    "\n",
    "# Create horizontal bar chart\n",
    "ax.barh(y, negative, label='Negative', color='red')\n",
    "ax.barh(y, neutral, left=negative, label='Neutral', color='gray')\n",
    "ax.barh(y, positive, left=[n + ne for n, ne in zip(negative, neutral)], label='Positive', color='green')\n",
    "\n",
    "# Set the y-axis positions and labels\n",
    "ax.set_yticks(y)\n",
    "ax.set_yticklabels(topics)\n",
    "\n",
    "# Set the x-axis label\n",
    "ax.set_xlabel('Sentiment Counts')\n",
    "\n",
    "# Set the title\n",
    "ax.set_title('Sentiment Distribution for Trade and Market Topics')\n",
    "\n",
    "# Add a legend\n",
    "ax.legend()\n",
    "\n",
    "# Show the plot\n",
    "plt.tight_layout()\n",
    "plt.show()\n"
   ]
  },
  {
   "cell_type": "code",
   "execution_count": 10,
   "id": "2fe17099",
   "metadata": {},
   "outputs": [
    {
     "data": {
      "image/png": "[encoded data removed]",
      "text/plain": [
       "<Figure size 432x288 with 1 Axes>"
      ]
     },
     "metadata": {
      "needs_background": "light"
     },
     "output_type": "display_data"
    }
   ],
   "source": [
    "import matplotlib.pyplot as plt\n",
    "import numpy as np\n",
    "\n",
    "# Data\n",
    "topics = [\"Agricultural sector India\", \"Business India\", \"Economic reforms\", \"Industrial sector\", \"Services sector\"]\n",
    "negative = [1, 408, 9, 1, 2]\n",
    "neutral = [7, 1111, 26, 0, 18]\n",
    "positive = [5, 1116, 26, 4, 13]\n",
    "\n",
    "# Create the figure and axis\n",
    "fig, ax = plt.subplots()\n",
    "\n",
    "# Bar positions\n",
    "x = np.arange(len(topics))\n",
    "width = 0.2  # Width of each bar\n",
    "\n",
    "# Create grouped bar chart\n",
    "ax.bar(x - width, negative, width, label='Negative', color='red')\n",
    "ax.bar(x, neutral, width, label='Neutral', color='gray')\n",
    "ax.bar(x + width, positive, width, label='Positive', color='green')\n",
    "\n",
    "# Set the x-axis positions and labels\n",
    "ax.set_xticks(x)\n",
    "ax.set_xticklabels(topics, rotation=30)\n",
    "\n",
    "# Set the y-axis label\n",
    "ax.set_ylabel('Sentiment Counts')\n",
    "\n",
    "# Set the title\n",
    "ax.set_title('Sentiment Distribution for Business-Related Topics')\n",
    "\n",
    "# Add a legend\n",
    "ax.legend()\n",
    "\n",
    "# Show the plot\n",
    "plt.tight_layout()\n",
    "plt.show()\n"
   ]
  },
  {
   "cell_type": "code",
   "execution_count": 11,
   "id": "af47e90f",
   "metadata": {},
   "outputs": [
    {
     "data": {
      "image/png": "[encoded data removed]",
      "text/plain": [
       "<Figure size 432x288 with 1 Axes>"
      ]
     },
     "metadata": {
      "needs_background": "light"
     },
     "output_type": "display_data"
    }
   ],
   "source": [
    "import matplotlib.pyplot as plt\n",
    "\n",
    "# Data\n",
    "topics = [\"Agricultural sector India\", \"Business India\", \"Economic reforms\", \"Industrial sector\", \"Services sector\"]\n",
    "negative = [1, 408, 9, 1, 2]\n",
    "neutral = [7, 1111, 26, 0, 18]\n",
    "positive = [5, 1116, 26, 4, 13]\n",
    "\n",
    "# Create the figure and axis\n",
    "fig, ax = plt.subplots()\n",
    "\n",
    "# Width of each bar\n",
    "width = 0.35\n",
    "\n",
    "# Bar positions\n",
    "x = range(len(topics))\n",
    "\n",
    "# Create the stacked bar chart\n",
    "ax.bar(x, negative, width, label='Negative', color='red')\n",
    "ax.bar(x, neutral, width, label='Neutral', bottom=negative, color='gray')\n",
    "ax.bar(x, positive, width, label='Positive', bottom=[n + ne for n, ne in zip(negative, neutral)], color='green')\n",
    "\n",
    "# Set the x-axis labels\n",
    "ax.set_xticks(x)\n",
    "ax.set_xticklabels(topics, rotation=30)\n",
    "\n",
    "# Set the y-axis label\n",
    "ax.set_ylabel('Sentiment Counts')\n",
    "\n",
    "# Set the title\n",
    "ax.set_title('Sentiment Distribution for Business-Related Topics')\n",
    "\n",
    "# Add a legend\n",
    "ax.legend()\n",
    "\n",
    "# Show the plot\n",
    "plt.tight_layout()\n",
    "plt.show()\n"
   ]
  },
  {
   "cell_type": "code",
   "execution_count": 12,
   "id": "4b4c33ce",
   "metadata": {},
   "outputs": [
    {
     "data": {
      "image/png": "[encoded data removed]",
      "text/plain": [
       "<Figure size 432x288 with 1 Axes>"
      ]
     },
     "metadata": {
      "needs_background": "light"
     },
     "output_type": "display_data"
    }
   ],
   "source": [
    "import matplotlib.pyplot as plt\n",
    "\n",
    "# Data\n",
    "topics = [\"Agricultural sector India\", \"Business India\", \"Economic reforms\", \"Industrial sector\", \"Services sector\"]\n",
    "negative = [1, 408, 9, 1, 2]\n",
    "neutral = [7, 1111, 26, 0, 18]\n",
    "positive = [5, 1116, 26, 4, 13]\n",
    "\n",
    "# Create the figure and axis\n",
    "fig, ax = plt.subplots()\n",
    "\n",
    "# Bar positions\n",
    "y = range(len(topics))\n",
    "\n",
    "# Create horizontal stacked bar chart\n",
    "ax.barh(y, negative, label='Negative', color='red')\n",
    "ax.barh(y, neutral, left=negative, label='Neutral', color='gray')\n",
    "ax.barh(y, positive, left=[n + ne for n, ne in zip(negative, neutral)], label='Positive', color='green')\n",
    "\n",
    "# Set the y-axis positions and labels\n",
    "ax.set_yticks(y)\n",
    "ax.set_yticklabels(topics)\n",
    "\n",
    "# Set the x-axis label\n",
    "ax.set_xlabel('Sentiment Counts')\n",
    "\n",
    "# Set the title\n",
    "ax.set_title('Sentiment Distribution for Business-Related Topics')\n",
    "\n",
    "# Add a legend\n",
    "ax.legend()\n",
    "\n",
    "# Show the plot\n",
    "plt.tight_layout()\n",
    "plt.show()\n"
   ]
  },
  {
   "cell_type": "code",
   "execution_count": 13,
   "id": "b2efa664",
   "metadata": {},
   "outputs": [
    {
     "data": {
      "image/png": "[encoded data removed]",
      "text/plain": [
       "<Figure size 432x288 with 1 Axes>"
      ]
     },
     "metadata": {
      "needs_background": "light"
     },
     "output_type": "display_data"
    }
   ],
   "source": [
    "import matplotlib.pyplot as plt\n",
    "import numpy as np\n",
    "\n",
    "# Data (excluding \"Business India\")\n",
    "topics = [\"Agricultural sector India\", \"Economic reforms\", \"Industrial sector\", \"Services sector\"]\n",
    "negative = [1, 9, 1, 2]\n",
    "neutral = [7, 26, 0, 18]\n",
    "positive = [5, 26, 4, 13]\n",
    "\n",
    "# Create the figure and axis\n",
    "fig, ax = plt.subplots()\n",
    "\n",
    "# Bar positions\n",
    "x = np.arange(len(topics))\n",
    "width = 0.2  # Width of each bar\n",
    "\n",
    "# Create grouped bar chart\n",
    "ax.bar(x - width, negative, width, label='Negative', color='red')\n",
    "ax.bar(x, neutral, width, label='Neutral', color='gray')\n",
    "ax.bar(x + width, positive, width, label='Positive', color='green')\n",
    "\n",
    "# Set the x-axis positions and labels\n",
    "ax.set_xticks(x)\n",
    "ax.set_xticklabels(topics, rotation=30)\n",
    "\n",
    "# Set the y-axis label\n",
    "ax.set_ylabel('Sentiment Counts')\n",
    "\n",
    "# Set the title\n",
    "ax.set_title('Sentiment Distribution for Business-Related Topics (Excluding Business India)')\n",
    "\n",
    "# Add a legend\n",
    "ax.legend()\n",
    "\n",
    "# Show the plot\n",
    "plt.tight_layout()\n",
    "plt.show()\n"
   ]
  },
  {
   "cell_type": "code",
   "execution_count": 16,
   "id": "6fe1a9d5",
   "metadata": {},
   "outputs": [
    {
     "name": "stdout",
     "output_type": "stream",
     "text": [
      "(0, '0.046*\"india\" + 0.018*\"unemploy\" + 0.014*\"bharat\" + 0.012*\"inflat\" + 0.012*\"poverti\"')\n",
      "(1, '0.025*\"india\" + 0.010*\"name\" + 0.009*\"woman\" + 0.009*\"chang\" + 0.009*\"busi\"')\n",
      "(2, '0.041*\"india\" + 0.016*\"budget\" + 0.013*\"g\" + 0.013*\"cr\" + 0.007*\"busi\"')\n",
      "(3, '0.050*\"india\" + 0.012*\"budget\" + 0.011*\"countri\" + 0.006*\"one\" + 0.006*\"economi\"')\n",
      "(4, '0.060*\"india\" + 0.028*\"unemploy\" + 0.023*\"cast\" + 0.018*\"work\" + 0.013*\"peopl\"')\n",
      "(5, '0.060*\"india\" + 0.015*\"gdp\" + 0.014*\"economi\" + 0.013*\"china\" + 0.012*\"unemploy\"')\n",
      "(6, '0.031*\"india\" + 0.009*\"u\" + 0.009*\"budget\" + 0.008*\"get\" + 0.008*\"also\"')\n",
      "(7, '0.046*\"india\" + 0.013*\"unemploy\" + 0.010*\"economi\" + 0.010*\"want\" + 0.007*\"world\"')\n",
      "(8, '0.035*\"india\" + 0.012*\"unemploy\" + 0.009*\"like\" + 0.008*\"countri\" + 0.007*\"peopl\"')\n",
      "(9, '0.042*\"india\" + 0.015*\"gdp\" + 0.013*\"year\" + 0.010*\"unemploy\" + 0.010*\"crore\"')\n",
      "(10, '0.047*\"india\" + 0.016*\"budget\" + 0.008*\"unemploy\" + 0.007*\"busi\" + 0.006*\"movi\"')\n",
      "(11, '0.042*\"india\" + 0.011*\"busi\" + 0.010*\"import\" + 0.009*\"indian\" + 0.009*\"unemploy\"')\n",
      "(12, '0.043*\"india\" + 0.012*\"unemploy\" + 0.010*\"cr\" + 0.009*\"trade\" + 0.008*\"u\"')\n",
      "(13, '0.032*\"india\" + 0.010*\"busi\" + 0.009*\"r\" + 0.009*\"invest\" + 0.007*\"g\"')\n",
      "(14, '0.042*\"india\" + 0.010*\"economi\" + 0.007*\"trade\" + 0.007*\"unemploy\" + 0.006*\"nifti\"')\n",
      "Topic modeling completed. Results saved in G:/2-1/english_tweets_with_topics.xlsx\n"
     ]
    }
   ],
   "source": [
    "from gensim import corpora, models\n",
    "import gensim\n",
    "import pandas as pd\n",
    "# Load the preprocessed data with sentiment analysis results\n",
    "input_file = 'G:/2-1/english_tweets_with_sentiment_analysis.xlsx'\n",
    "preprocessed_data = pd.read_excel(input_file)\n",
    "\n",
    "# Tokenize the text data\n",
    "tokenized_data = preprocessed_data['PreprocessedTweet'].apply(lambda x: x.split())\n",
    "\n",
    "# Create a dictionary and a document-term matrix\n",
    "dictionary = corpora.Dictionary(tokenized_data)\n",
    "doc_term_matrix = [dictionary.doc2bow(doc) for doc in tokenized_data]\n",
    "\n",
    "# Apply LDA\n",
    "lda_model = gensim.models.LdaMulticore(doc_term_matrix, num_topics=15, id2word=dictionary, passes=2, workers=2)\n",
    "\n",
    "# Print the topics and associated words\n",
    "topics = lda_model.print_topics(num_words=5)\n",
    "for topic in topics:\n",
    "    print(topic)\n",
    "\n",
    "# Assign topics to the documents\n",
    "preprocessed_data['Topic'] = [max(lda_model[doc], key=lambda x: x[1])[0] for doc in doc_term_matrix]\n",
    "\n",
    "# Save the data with topic modeling results\n",
    "output_with_topics_file_path = 'G:/2-1/english_tweets_with_topics.xlsx'\n",
    "preprocessed_data.to_excel(output_with_topics_file_path, index=False)\n",
    "\n",
    "print('Topic modeling completed. Results saved in', output_with_topics_file_path)\n"
   ]
  },
  {
   "cell_type": "code",
   "execution_count": 2,
   "id": "0c118bfd",
   "metadata": {},
   "outputs": [
    {
     "data": {
      "image/png": "[encoded data removed]",
      "text/plain": [
       "<Figure size 864x576 with 1 Axes>"
      ]
     },
     "metadata": {
      "needs_background": "light"
     },
     "output_type": "display_data"
    }
   ],
   "source": [
    "import matplotlib.pyplot as plt\n",
    "import numpy as np\n",
    "\n",
    "# Data\n",
    "topics = [\n",
    "    \"Agricultural sector India\", \"Budget India\", \"Business India\", \"Consumer spending India\", \"Demonetization India\",\n",
    "    \"Economic growth\", \"Economic indicators\", \"Economic policy\", \"Economic reforms\", \"Economy India\",\n",
    "    \"Employment\", \"Export Import\", \"Financial market\", \"Fiscal policy\", \"Foreign investment\", \"GDP India\",\n",
    "    \"GST India\", \"Industrial sector\", \"Inflation\", \"Monetary policy\", \"Poverty India\", \"Public debt\", \"Rupee\",\n",
    "    \"Services sector\", \"Stock market\", \"Taxation\", \"Trade India\", \"Trade deficit\", \"Unemployment India\"\n",
    "]\n",
    "\n",
    "negative_sentiment = [1, 23, 408, 3, 18, 17, 2, 2, 9, 363, 82, 19, 2, 2, 20, 210, 48, 1, 56, 1, 32, 2, 32, 2, 88, 16, 98, 5, 91]\n",
    "neutral_sentiment = [7, 97, 1111, 6, 50, 32, 6, 5, 26, 653, 52, 32, 4, 4, 47, 439, 160, 0, 68, 4, 80, 3, 144, 18, 260, 39, 149, 12, 102]\n",
    "positive_sentiment = [5, 63, 1116, 3, 25, 38, 4, 14, 26, 658, 64, 24, 0, 3, 38, 352, 78, 4, 66, 5, 61, 0, 91, 13, 210, 52, 181, 13, 135]\n",
    "\n",
    "# Create the figure and axis\n",
    "fig, ax = plt.subplots(figsize=(12, 8))\n",
    "\n",
    "# Bar positions\n",
    "x = np.arange(len(topics))\n",
    "width = 0.35  # Width of each bar\n",
    "\n",
    "# Create stacked bar chart\n",
    "ax.bar(x, negative_sentiment, width, label='Negative', color='red')\n",
    "ax.bar(x, neutral_sentiment, width, label='Neutral', bottom=negative_sentiment, color='gray')\n",
    "ax.bar(x, positive_sentiment, width, label='Positive', bottom=[n + ne for n, ne in zip(negative_sentiment, neutral_sentiment)], color='green')\n",
    "\n",
    "# Set the x-axis positions and labels\n",
    "ax.set_xticks(x)\n",
    "ax.set_xticklabels(topics, rotation=90)\n",
    "\n",
    "# Set the y-axis label\n",
    "ax.set_ylabel('Sentiment Counts')\n",
    "\n",
    "# Set the title\n",
    "ax.set_title('Sentiment Distribution for Various Topics')\n",
    "\n",
    "# Add a legend\n",
    "ax.legend()\n",
    "\n",
    "# Show the plot\n",
    "plt.tight_layout()\n",
    "plt.show()\n"
   ]
  },
  {
   "cell_type": "code",
   "execution_count": 1,
   "id": "a6177c41",
   "metadata": {},
   "outputs": [
    {
     "data": {
      "image/png": "[encoded data removed]",
      "text/plain": [
       "<Figure size 720x432 with 1 Axes>"
      ]
     },
     "metadata": {
      "needs_background": "light"
     },
     "output_type": "display_data"
    }
   ],
   "source": [
    "import matplotlib.pyplot as plt\n",
    "import pandas as pd\n",
    "\n",
    "# Create a DataFrame for the accuracy data\n",
    "data = {\n",
    "    'Model': ['LR', 'RF', 'GBM', 'ETC', 'SVM'],\n",
    "    'Accuracy (BoW)': [0.87, 0.919, 0.83, 0.93, 0.81],\n",
    "    'Accuracy (TF-IDF)': [0.873, 0.933, 0.934, 0.933, 0.886]\n",
    "}\n",
    "\n",
    "df = pd.DataFrame(data)\n",
    "\n",
    "# Set the model as the index\n",
    "df.set_index('Model', inplace=True)\n",
    "\n",
    "# Plot the data using Matplotlib\n",
    "fig, ax = plt.subplots(figsize=(10, 6))\n",
    "df.plot(kind='bar', ax=ax, width=0.8, color=['#1f77b4', '#ff7f0e'])\n",
    "ax.set_ylabel('Accuracy')\n",
    "ax.set_xlabel('Model')\n",
    "ax.set_title('Model Accuracy Comparison (BoW vs. TF-IDF)')\n",
    "plt.xticks(rotation=0)\n",
    "plt.legend(title='Feature Representation', loc='upper left')\n",
    "plt.grid(axis='y', linestyle='--', alpha=0.6)\n",
    "\n",
    "# Show the plot\n",
    "plt.tight_layout()\n",
    "plt.show()\n"
   ]
  },
  {
   "cell_type": "code",
   "execution_count": 2,
   "id": "84f96de5",
   "metadata": {},
   "outputs": [
    {
     "ename": "IndexError",
     "evalue": "list index out of range",
     "output_type": "error",
     "traceback": [
      "\u001b[1;31m---------------------------------------------------------------------------\u001b[0m",
      "\u001b[1;31mIndexError\u001b[0m                                Traceback (most recent call last)",
      "Input \u001b[1;32mIn [2]\u001b[0m, in \u001b[0;36m<cell line: 27>\u001b[1;34m()\u001b[0m\n\u001b[0;32m     28\u001b[0m     \u001b[38;5;28;01mfor\u001b[39;00m j, metric \u001b[38;5;129;01min\u001b[39;00m \u001b[38;5;28menumerate\u001b[39m([\u001b[38;5;124m\"\u001b[39m\u001b[38;5;124mF1 Score\u001b[39m\u001b[38;5;124m\"\u001b[39m, \u001b[38;5;124m\"\u001b[39m\u001b[38;5;124mPrecision\u001b[39m\u001b[38;5;124m\"\u001b[39m, \u001b[38;5;124m\"\u001b[39m\u001b[38;5;124mRecall\u001b[39m\u001b[38;5;124m\"\u001b[39m, \u001b[38;5;124m\"\u001b[39m\u001b[38;5;124mSupport\u001b[39m\u001b[38;5;124m\"\u001b[39m]):\n\u001b[0;32m     29\u001b[0m         x \u001b[38;5;241m=\u001b[39m np\u001b[38;5;241m.\u001b[39marange(\u001b[38;5;28mlen\u001b[39m(models)) \u001b[38;5;241m+\u001b[39m j \u001b[38;5;241m*\u001b[39m bar_width\n\u001b[1;32m---> 30\u001b[0m         y \u001b[38;5;241m=\u001b[39m [f1_scores[model][i] \u001b[38;5;28;01mif\u001b[39;00m metric \u001b[38;5;241m==\u001b[39m \u001b[38;5;124m\"\u001b[39m\u001b[38;5;124mF1 Score\u001b[39m\u001b[38;5;124m\"\u001b[39m \u001b[38;5;28;01melse\u001b[39;00m f1_scores[model][i \u001b[38;5;241m+\u001b[39m \u001b[38;5;241m1\u001b[39m] \u001b[38;5;28;01mfor\u001b[39;00m model \u001b[38;5;129;01min\u001b[39;00m models]\n\u001b[0;32m     31\u001b[0m         ax\u001b[38;5;241m.\u001b[39mbar(x, y, bar_width, label\u001b[38;5;241m=\u001b[39m\u001b[38;5;124mf\u001b[39m\u001b[38;5;124m\"\u001b[39m\u001b[38;5;132;01m{\u001b[39;00m\u001b[38;5;28mcls\u001b[39m\u001b[38;5;132;01m}\u001b[39;00m\u001b[38;5;124m - \u001b[39m\u001b[38;5;132;01m{\u001b[39;00mmetric\u001b[38;5;132;01m}\u001b[39;00m\u001b[38;5;124m\"\u001b[39m, color\u001b[38;5;241m=\u001b[39mcolors[j])\n\u001b[0;32m     33\u001b[0m \u001b[38;5;66;03m# Set the X-axis labels\u001b[39;00m\n",
      "Input \u001b[1;32mIn [2]\u001b[0m, in \u001b[0;36m<listcomp>\u001b[1;34m(.0)\u001b[0m\n\u001b[0;32m     28\u001b[0m     \u001b[38;5;28;01mfor\u001b[39;00m j, metric \u001b[38;5;129;01min\u001b[39;00m \u001b[38;5;28menumerate\u001b[39m([\u001b[38;5;124m\"\u001b[39m\u001b[38;5;124mF1 Score\u001b[39m\u001b[38;5;124m\"\u001b[39m, \u001b[38;5;124m\"\u001b[39m\u001b[38;5;124mPrecision\u001b[39m\u001b[38;5;124m\"\u001b[39m, \u001b[38;5;124m\"\u001b[39m\u001b[38;5;124mRecall\u001b[39m\u001b[38;5;124m\"\u001b[39m, \u001b[38;5;124m\"\u001b[39m\u001b[38;5;124mSupport\u001b[39m\u001b[38;5;124m\"\u001b[39m]):\n\u001b[0;32m     29\u001b[0m         x \u001b[38;5;241m=\u001b[39m np\u001b[38;5;241m.\u001b[39marange(\u001b[38;5;28mlen\u001b[39m(models)) \u001b[38;5;241m+\u001b[39m j \u001b[38;5;241m*\u001b[39m bar_width\n\u001b[1;32m---> 30\u001b[0m         y \u001b[38;5;241m=\u001b[39m [f1_scores[model][i] \u001b[38;5;28;01mif\u001b[39;00m metric \u001b[38;5;241m==\u001b[39m \u001b[38;5;124m\"\u001b[39m\u001b[38;5;124mF1 Score\u001b[39m\u001b[38;5;124m\"\u001b[39m \u001b[38;5;28;01melse\u001b[39;00m \u001b[43mf1_scores\u001b[49m\u001b[43m[\u001b[49m\u001b[43mmodel\u001b[49m\u001b[43m]\u001b[49m\u001b[43m[\u001b[49m\u001b[43mi\u001b[49m\u001b[43m \u001b[49m\u001b[38;5;241;43m+\u001b[39;49m\u001b[43m \u001b[49m\u001b[38;5;241;43m1\u001b[39;49m\u001b[43m]\u001b[49m \u001b[38;5;28;01mfor\u001b[39;00m model \u001b[38;5;129;01min\u001b[39;00m models]\n\u001b[0;32m     31\u001b[0m         ax\u001b[38;5;241m.\u001b[39mbar(x, y, bar_width, label\u001b[38;5;241m=\u001b[39m\u001b[38;5;124mf\u001b[39m\u001b[38;5;124m\"\u001b[39m\u001b[38;5;132;01m{\u001b[39;00m\u001b[38;5;28mcls\u001b[39m\u001b[38;5;132;01m}\u001b[39;00m\u001b[38;5;124m - \u001b[39m\u001b[38;5;132;01m{\u001b[39;00mmetric\u001b[38;5;132;01m}\u001b[39;00m\u001b[38;5;124m\"\u001b[39m, color\u001b[38;5;241m=\u001b[39mcolors[j])\n\u001b[0;32m     33\u001b[0m \u001b[38;5;66;03m# Set the X-axis labels\u001b[39;00m\n",
      "\u001b[1;31mIndexError\u001b[0m: list index out of range"
     ]
    },
    {
     "data": {
      "image/png": "[encoded data removed]",
      "text/plain": [
       "<Figure size 432x288 with 1 Axes>"
      ]
     },
     "metadata": {
      "needs_background": "light"
     },
     "output_type": "display_data"
    }
   ],
   "source": [
    "import matplotlib.pyplot as plt\n",
    "import numpy as np\n",
    "\n",
    "# Define the data\n",
    "models = [\"LR\", \"RF\", \"GBM\", \"ETC\", \"SVM\"]\n",
    "classes = [\"Neutral\", \"Positive\", \"Negative\"]\n",
    "\n",
    "# F1 scores, precision, recall, and support for each class and model\n",
    "f1_scores = {\n",
    "    \"LR\": [0.8, 0.89, 0.89],\n",
    "    \"RF\": [0.87, 0.94, 0.9],\n",
    "    \"GBM\": [0.88, 0.94, 0.95],\n",
    "    \"ETC\": [0.87, 0.94, 0.96],\n",
    "    \"SVM\": [0.82, 0.9, 0.9]\n",
    "}\n",
    "\n",
    "# Set the width of each bar\n",
    "bar_width = 0.2\n",
    "\n",
    "# Create subplots\n",
    "fig, ax = plt.subplots()\n",
    "\n",
    "# Define a color map for different metrics\n",
    "colors = ['b', 'g', 'r', 'y']\n",
    "\n",
    "# Create grouped bar charts for each class and metric\n",
    "for i, cls in enumerate(classes):\n",
    "    for j, metric in enumerate([\"F1 Score\", \"Precision\", \"Recall\", \"Support\"]):\n",
    "        x = np.arange(len(models)) + j * bar_width\n",
    "        y = [f1_scores[model][i] if metric == \"F1 Score\" else f1_scores[model][i + 1] for model in models]\n",
    "        ax.bar(x, y, bar_width, label=f\"{cls} - {metric}\", color=colors[j])\n",
    "\n",
    "# Set the X-axis labels\n",
    "ax.set_xlabel('Models')\n",
    "ax.set_xticks(np.arange(len(models)) + bar_width)\n",
    "\n",
    "# Set the Y-axis label\n",
    "ax.set_ylabel('Score')\n",
    "\n",
    "# Set the title of the chart\n",
    "ax.set_title('Model Performance Metrics for Different Classes')\n",
    "\n",
    "# Add a legend\n",
    "ax.legend(loc='upper right')\n",
    "\n",
    "# Set the model names as X-axis labels\n",
    "ax.set_xticklabels(models)\n",
    "\n",
    "# Show the plot\n",
    "plt.show()\n"
   ]
  },
  {
   "cell_type": "code",
   "execution_count": 3,
   "id": "f2dfda25",
   "metadata": {},
   "outputs": [
    {
     "ename": "IndexError",
     "evalue": "list index out of range",
     "output_type": "error",
     "traceback": [
      "\u001b[1;31m---------------------------------------------------------------------------\u001b[0m",
      "\u001b[1;31mIndexError\u001b[0m                                Traceback (most recent call last)",
      "Input \u001b[1;32mIn [3]\u001b[0m, in \u001b[0;36m<cell line: 27>\u001b[1;34m()\u001b[0m\n\u001b[0;32m     28\u001b[0m     \u001b[38;5;28;01mfor\u001b[39;00m j, metric \u001b[38;5;129;01min\u001b[39;00m \u001b[38;5;28menumerate\u001b[39m([\u001b[38;5;124m\"\u001b[39m\u001b[38;5;124mF1 Score\u001b[39m\u001b[38;5;124m\"\u001b[39m, \u001b[38;5;124m\"\u001b[39m\u001b[38;5;124mPrecision\u001b[39m\u001b[38;5;124m\"\u001b[39m, \u001b[38;5;124m\"\u001b[39m\u001b[38;5;124mRecall\u001b[39m\u001b[38;5;124m\"\u001b[39m, \u001b[38;5;124m\"\u001b[39m\u001b[38;5;124mSupport\u001b[39m\u001b[38;5;124m\"\u001b[39m]):\n\u001b[0;32m     29\u001b[0m         x \u001b[38;5;241m=\u001b[39m np\u001b[38;5;241m.\u001b[39marange(\u001b[38;5;28mlen\u001b[39m(models)) \u001b[38;5;241m+\u001b[39m j \u001b[38;5;241m*\u001b[39m bar_width\n\u001b[1;32m---> 30\u001b[0m         y \u001b[38;5;241m=\u001b[39m [performance_metrics[model][i] \u001b[38;5;28;01mif\u001b[39;00m metric \u001b[38;5;241m==\u001b[39m \u001b[38;5;124m\"\u001b[39m\u001b[38;5;124mF1 Score\u001b[39m\u001b[38;5;124m\"\u001b[39m \u001b[38;5;28;01melse\u001b[39;00m performance_metrics[model][i \u001b[38;5;241m+\u001b[39m \u001b[38;5;241m1\u001b[39m] \u001b[38;5;28;01mif\u001b[39;00m metric \u001b[38;5;241m==\u001b[39m \u001b[38;5;124m\"\u001b[39m\u001b[38;5;124mPrecision\u001b[39m\u001b[38;5;124m\"\u001b[39m \u001b[38;5;28;01melse\u001b[39;00m performance_metrics[model][i \u001b[38;5;241m+\u001b[39m \u001b[38;5;241m2\u001b[39m] \u001b[38;5;28;01mif\u001b[39;00m metric \u001b[38;5;241m==\u001b[39m \u001b[38;5;124m\"\u001b[39m\u001b[38;5;124mRecall\u001b[39m\u001b[38;5;124m\"\u001b[39m \u001b[38;5;28;01melse\u001b[39;00m performance_metrics[model][i \u001b[38;5;241m+\u001b[39m \u001b[38;5;241m3\u001b[39m] \u001b[38;5;28;01mfor\u001b[39;00m model \u001b[38;5;129;01min\u001b[39;00m models]\n\u001b[0;32m     31\u001b[0m         ax\u001b[38;5;241m.\u001b[39mbar(x, y, bar_width, label\u001b[38;5;241m=\u001b[39m\u001b[38;5;124mf\u001b[39m\u001b[38;5;124m\"\u001b[39m\u001b[38;5;132;01m{\u001b[39;00m\u001b[38;5;28mcls\u001b[39m\u001b[38;5;132;01m}\u001b[39;00m\u001b[38;5;124m - \u001b[39m\u001b[38;5;132;01m{\u001b[39;00mmetric\u001b[38;5;132;01m}\u001b[39;00m\u001b[38;5;124m\"\u001b[39m, color\u001b[38;5;241m=\u001b[39mcolors[j])\n\u001b[0;32m     33\u001b[0m \u001b[38;5;66;03m# Set the X-axis labels\u001b[39;00m\n",
      "Input \u001b[1;32mIn [3]\u001b[0m, in \u001b[0;36m<listcomp>\u001b[1;34m(.0)\u001b[0m\n\u001b[0;32m     28\u001b[0m     \u001b[38;5;28;01mfor\u001b[39;00m j, metric \u001b[38;5;129;01min\u001b[39;00m \u001b[38;5;28menumerate\u001b[39m([\u001b[38;5;124m\"\u001b[39m\u001b[38;5;124mF1 Score\u001b[39m\u001b[38;5;124m\"\u001b[39m, \u001b[38;5;124m\"\u001b[39m\u001b[38;5;124mPrecision\u001b[39m\u001b[38;5;124m\"\u001b[39m, \u001b[38;5;124m\"\u001b[39m\u001b[38;5;124mRecall\u001b[39m\u001b[38;5;124m\"\u001b[39m, \u001b[38;5;124m\"\u001b[39m\u001b[38;5;124mSupport\u001b[39m\u001b[38;5;124m\"\u001b[39m]):\n\u001b[0;32m     29\u001b[0m         x \u001b[38;5;241m=\u001b[39m np\u001b[38;5;241m.\u001b[39marange(\u001b[38;5;28mlen\u001b[39m(models)) \u001b[38;5;241m+\u001b[39m j \u001b[38;5;241m*\u001b[39m bar_width\n\u001b[1;32m---> 30\u001b[0m         y \u001b[38;5;241m=\u001b[39m [performance_metrics[model][i] \u001b[38;5;28;01mif\u001b[39;00m metric \u001b[38;5;241m==\u001b[39m \u001b[38;5;124m\"\u001b[39m\u001b[38;5;124mF1 Score\u001b[39m\u001b[38;5;124m\"\u001b[39m \u001b[38;5;28;01melse\u001b[39;00m performance_metrics[model][i \u001b[38;5;241m+\u001b[39m \u001b[38;5;241m1\u001b[39m] \u001b[38;5;28;01mif\u001b[39;00m metric \u001b[38;5;241m==\u001b[39m \u001b[38;5;124m\"\u001b[39m\u001b[38;5;124mPrecision\u001b[39m\u001b[38;5;124m\"\u001b[39m \u001b[38;5;28;01melse\u001b[39;00m performance_metrics[model][i \u001b[38;5;241m+\u001b[39m \u001b[38;5;241m2\u001b[39m] \u001b[38;5;28;01mif\u001b[39;00m metric \u001b[38;5;241m==\u001b[39m \u001b[38;5;124m\"\u001b[39m\u001b[38;5;124mRecall\u001b[39m\u001b[38;5;124m\"\u001b[39m \u001b[38;5;28;01melse\u001b[39;00m \u001b[43mperformance_metrics\u001b[49m\u001b[43m[\u001b[49m\u001b[43mmodel\u001b[49m\u001b[43m]\u001b[49m\u001b[43m[\u001b[49m\u001b[43mi\u001b[49m\u001b[43m \u001b[49m\u001b[38;5;241;43m+\u001b[39;49m\u001b[43m \u001b[49m\u001b[38;5;241;43m3\u001b[39;49m\u001b[43m]\u001b[49m \u001b[38;5;28;01mfor\u001b[39;00m model \u001b[38;5;129;01min\u001b[39;00m models]\n\u001b[0;32m     31\u001b[0m         ax\u001b[38;5;241m.\u001b[39mbar(x, y, bar_width, label\u001b[38;5;241m=\u001b[39m\u001b[38;5;124mf\u001b[39m\u001b[38;5;124m\"\u001b[39m\u001b[38;5;132;01m{\u001b[39;00m\u001b[38;5;28mcls\u001b[39m\u001b[38;5;132;01m}\u001b[39;00m\u001b[38;5;124m - \u001b[39m\u001b[38;5;132;01m{\u001b[39;00mmetric\u001b[38;5;132;01m}\u001b[39;00m\u001b[38;5;124m\"\u001b[39m, color\u001b[38;5;241m=\u001b[39mcolors[j])\n\u001b[0;32m     33\u001b[0m \u001b[38;5;66;03m# Set the X-axis labels\u001b[39;00m\n",
      "\u001b[1;31mIndexError\u001b[0m: list index out of range"
     ]
    },
    {
     "data": {
      "image/png": "[encoded data removed]",
      "text/plain": [
       "<Figure size 432x288 with 1 Axes>"
      ]
     },
     "metadata": {
      "needs_background": "light"
     },
     "output_type": "display_data"
    }
   ],
   "source": [
    "import matplotlib.pyplot as plt\n",
    "import numpy as np\n",
    "\n",
    "# Define the data\n",
    "models = [\"LR\", \"RF\", \"GBM\", \"ETC\", \"SVM\"]\n",
    "classes = [\"Neutral\", \"Positive\", \"Negative\"]\n",
    "\n",
    "# F1 scores, precision, recall, and support for each class and model\n",
    "performance_metrics = {\n",
    "    \"LR\": [0.8, 0.89, 0.73, 353],\n",
    "    \"RF\": [0.87, 0.94, 0.8, 676],\n",
    "    \"GBM\": [0.88, 0.91, 0.85, 692],\n",
    "    \"ETC\": [0.87, 0.94, 0.8, 353],\n",
    "    \"SVM\": [0.82, 0.9, 0.79, 676]\n",
    "}\n",
    "\n",
    "# Set the width of each bar\n",
    "bar_width = 0.2\n",
    "\n",
    "# Create subplots\n",
    "fig, ax = plt.subplots()\n",
    "\n",
    "# Define a color map for different metrics\n",
    "colors = ['b', 'g', 'r', 'y']\n",
    "\n",
    "# Create grouped bar charts for each class and metric\n",
    "for i, cls in enumerate(classes):\n",
    "    for j, metric in enumerate([\"F1 Score\", \"Precision\", \"Recall\", \"Support\"]):\n",
    "        x = np.arange(len(models)) + j * bar_width\n",
    "        y = [performance_metrics[model][i] if metric == \"F1 Score\" else performance_metrics[model][i + 1] if metric == \"Precision\" else performance_metrics[model][i + 2] if metric == \"Recall\" else performance_metrics[model][i + 3] for model in models]\n",
    "        ax.bar(x, y, bar_width, label=f\"{cls} - {metric}\", color=colors[j])\n",
    "\n",
    "# Set the X-axis labels\n",
    "ax.set_xlabel('Models')\n",
    "ax.set_xticks(np.arange(len(models)) + bar_width)\n",
    "\n",
    "# Set the Y-axis label\n",
    "ax.set_ylabel('Score')\n",
    "\n",
    "# Set the title of the chart\n",
    "ax.set_title('Model Performance Metrics for Different Classes')\n",
    "\n",
    "# Add a legend\n",
    "ax.legend(loc='upper right')\n",
    "\n",
    "# Set the model names as X-axis labels\n",
    "ax.set_xticklabels(models)\n",
    "\n",
    "# Show the plot\n",
    "plt.show()\n"
   ]
  },
  {
   "cell_type": "code",
   "execution_count": 5,
   "id": "4076bcdc",
   "metadata": {},
   "outputs": [
    {
     "ename": "IndexError",
     "evalue": "list index out of range",
     "output_type": "error",
     "traceback": [
      "\u001b[1;31m---------------------------------------------------------------------------\u001b[0m",
      "\u001b[1;31mIndexError\u001b[0m                                Traceback (most recent call last)",
      "Input \u001b[1;32mIn [5]\u001b[0m, in \u001b[0;36m<cell line: 27>\u001b[1;34m()\u001b[0m\n\u001b[0;32m     33\u001b[0m     y \u001b[38;5;241m=\u001b[39m [performance_metrics[model][i \u001b[38;5;241m+\u001b[39m \u001b[38;5;241m2\u001b[39m] \u001b[38;5;28;01mfor\u001b[39;00m model \u001b[38;5;129;01min\u001b[39;00m models]\n\u001b[0;32m     34\u001b[0m     ax\u001b[38;5;241m.\u001b[39mbar(x \u001b[38;5;241m+\u001b[39m i \u001b[38;5;241m*\u001b[39m bar_width, y, bar_width, label\u001b[38;5;241m=\u001b[39m\u001b[38;5;124mf\u001b[39m\u001b[38;5;124m\"\u001b[39m\u001b[38;5;132;01m{\u001b[39;00m\u001b[38;5;28mcls\u001b[39m\u001b[38;5;132;01m}\u001b[39;00m\u001b[38;5;124m - Recall\u001b[39m\u001b[38;5;124m\"\u001b[39m, color\u001b[38;5;241m=\u001b[39mcolors[\u001b[38;5;241m2\u001b[39m])\n\u001b[1;32m---> 35\u001b[0m     y \u001b[38;5;241m=\u001b[39m [performance_metrics[model][i \u001b[38;5;241m+\u001b[39m \u001b[38;5;241m3\u001b[39m] \u001b[38;5;28;01mfor\u001b[39;00m model \u001b[38;5;129;01min\u001b[39;00m models]\n\u001b[0;32m     36\u001b[0m     ax\u001b[38;5;241m.\u001b[39mbar(x \u001b[38;5;241m+\u001b[39m i \u001b[38;5;241m*\u001b[39m bar_width, y, bar_width, label\u001b[38;5;241m=\u001b[39m\u001b[38;5;124mf\u001b[39m\u001b[38;5;124m\"\u001b[39m\u001b[38;5;132;01m{\u001b[39;00m\u001b[38;5;28mcls\u001b[39m\u001b[38;5;132;01m}\u001b[39;00m\u001b[38;5;124m - Support\u001b[39m\u001b[38;5;124m\"\u001b[39m, color\u001b[38;5;241m=\u001b[39mcolors[\u001b[38;5;241m3\u001b[39m])\n\u001b[0;32m     38\u001b[0m \u001b[38;5;66;03m# Set the X-axis label\u001b[39;00m\n",
      "Input \u001b[1;32mIn [5]\u001b[0m, in \u001b[0;36m<listcomp>\u001b[1;34m(.0)\u001b[0m\n\u001b[0;32m     33\u001b[0m     y \u001b[38;5;241m=\u001b[39m [performance_metrics[model][i \u001b[38;5;241m+\u001b[39m \u001b[38;5;241m2\u001b[39m] \u001b[38;5;28;01mfor\u001b[39;00m model \u001b[38;5;129;01min\u001b[39;00m models]\n\u001b[0;32m     34\u001b[0m     ax\u001b[38;5;241m.\u001b[39mbar(x \u001b[38;5;241m+\u001b[39m i \u001b[38;5;241m*\u001b[39m bar_width, y, bar_width, label\u001b[38;5;241m=\u001b[39m\u001b[38;5;124mf\u001b[39m\u001b[38;5;124m\"\u001b[39m\u001b[38;5;132;01m{\u001b[39;00m\u001b[38;5;28mcls\u001b[39m\u001b[38;5;132;01m}\u001b[39;00m\u001b[38;5;124m - Recall\u001b[39m\u001b[38;5;124m\"\u001b[39m, color\u001b[38;5;241m=\u001b[39mcolors[\u001b[38;5;241m2\u001b[39m])\n\u001b[1;32m---> 35\u001b[0m     y \u001b[38;5;241m=\u001b[39m [\u001b[43mperformance_metrics\u001b[49m\u001b[43m[\u001b[49m\u001b[43mmodel\u001b[49m\u001b[43m]\u001b[49m\u001b[43m[\u001b[49m\u001b[43mi\u001b[49m\u001b[43m \u001b[49m\u001b[38;5;241;43m+\u001b[39;49m\u001b[43m \u001b[49m\u001b[38;5;241;43m3\u001b[39;49m\u001b[43m]\u001b[49m \u001b[38;5;28;01mfor\u001b[39;00m model \u001b[38;5;129;01min\u001b[39;00m models]\n\u001b[0;32m     36\u001b[0m     ax\u001b[38;5;241m.\u001b[39mbar(x \u001b[38;5;241m+\u001b[39m i \u001b[38;5;241m*\u001b[39m bar_width, y, bar_width, label\u001b[38;5;241m=\u001b[39m\u001b[38;5;124mf\u001b[39m\u001b[38;5;124m\"\u001b[39m\u001b[38;5;132;01m{\u001b[39;00m\u001b[38;5;28mcls\u001b[39m\u001b[38;5;132;01m}\u001b[39;00m\u001b[38;5;124m - Support\u001b[39m\u001b[38;5;124m\"\u001b[39m, color\u001b[38;5;241m=\u001b[39mcolors[\u001b[38;5;241m3\u001b[39m])\n\u001b[0;32m     38\u001b[0m \u001b[38;5;66;03m# Set the X-axis label\u001b[39;00m\n",
      "\u001b[1;31mIndexError\u001b[0m: list index out of range"
     ]
    },
    {
     "data": {
      "image/png": "[encoded data removed]",
      "text/plain": [
       "<Figure size 432x288 with 1 Axes>"
      ]
     },
     "metadata": {
      "needs_background": "light"
     },
     "output_type": "display_data"
    }
   ],
   "source": [
    "import matplotlib.pyplot as plt\n",
    "import numpy as np\n",
    "\n",
    "# Define the data\n",
    "models = [\"LR\", \"RF\", \"GBM\", \"ETC\", \"SVM\"]\n",
    "classes = [\"Neutral\", \"Positive\", \"Negative\"]\n",
    "\n",
    "# F1 scores, precision, recall, and support for each class and model\n",
    "performance_metrics = {\n",
    "    \"LR\": [0.8, 0.89, 0.73, 353],\n",
    "    \"RF\": [0.87, 0.94, 0.8, 676],\n",
    "    \"GBM\": [0.88, 0.91, 0.85, 692],\n",
    "    \"ETC\": [0.87, 0.94, 0.8, 353],\n",
    "    \"SVM\": [0.82, 0.9, 0.79, 676]\n",
    "}\n",
    "\n",
    "# Set the width of each bar\n",
    "bar_width = 0.2\n",
    "\n",
    "# Create subplots\n",
    "fig, ax = plt.subplots()\n",
    "\n",
    "# Define a color map for different metrics\n",
    "colors = ['b', 'g', 'r', 'y']\n",
    "\n",
    "# Create grouped bar charts for each class and metric\n",
    "for i, cls in enumerate(classes):\n",
    "    x = np.arange(len(models))\n",
    "    y = [performance_metrics[model][i] for model in models]\n",
    "    ax.bar(x + i * bar_width, y, bar_width, label=f\"{cls} - F1 Score\", color=colors[0])\n",
    "    y = [performance_metrics[model][i + 1] for model in models]\n",
    "    ax.bar(x + i * bar_width, y, bar_width, label=f\"{cls} - Precision\", color=colors[1])\n",
    "    y = [performance_metrics[model][i + 2] for model in models]\n",
    "    ax.bar(x + i * bar_width, y, bar_width, label=f\"{cls} - Recall\", color=colors[2])\n",
    "    y = [performance_metrics[model][i + 3] for model in models]\n",
    "    ax.bar(x + i * bar_width, y, bar_width, label=f\"{cls} - Support\", color=colors[3])\n",
    "\n",
    "# Set the X-axis label\n",
    "ax.set_xlabel('Models')\n",
    "ax.set_xticks(np.arange(len(models)) + bar_width)\n",
    "\n",
    "# Set the Y-axis label\n",
    "ax.set_ylabel('Score')\n",
    "\n",
    "# Set the title of the chart\n",
    "ax.set_title('Model Performance Metrics for Different Classes')\n",
    "\n",
    "# Add a legend\n",
    "ax.legend(loc='upper right')\n",
    "\n",
    "# Set the model names as X-axis labels\n",
    "ax.set_xticklabels(models)\n",
    "\n",
    "# Show the plot\n",
    "plt.show()\n"
   ]
  },
  {
   "cell_type": "code",
   "execution_count": null,
   "id": "76fbc41f",
   "metadata": {},
   "outputs": [],
   "source": []
  }
 ],
 "metadata": {
  "kernelspec": {
   "display_name": "Python 3 (ipykernel)",
   "language": "python",
   "name": "python3"
  },
  "language_info": {
   "codemirror_mode": {
    "name": "ipython",
    "version": 3
   },
   "file_extension": ".py",
   "mimetype": "text/x-python",
   "name": "python",
   "nbconvert_exporter": "python",
   "pygments_lexer": "ipython3",
   "version": "3.11.5"
  }
 },
 "nbformat": 4,
 "nbformat_minor": 5
}
